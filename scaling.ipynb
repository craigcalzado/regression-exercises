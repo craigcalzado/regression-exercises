{
 "cells": [
  {
   "cell_type": "code",
   "execution_count": 1,
   "metadata": {},
   "outputs": [],
   "source": [
    "# imports from lesson\n",
    "import matplotlib.pyplot as plt\n",
    "import numpy as np\n",
    "from scipy import stats\n",
    "import sklearn.preprocessing\n",
    "from sklearn.model_selection import train_test_split\n",
    "import pandas as pd\n",
    "# wrangled data\n",
    "import wrangle\n",
    "#prep data\n",
    "import prepare"
   ]
  },
  {
   "cell_type": "code",
   "execution_count": 2,
   "metadata": {},
   "outputs": [
    {
     "name": "stdout",
     "output_type": "stream",
     "text": [
      "Let me get that for you...\n"
     ]
    },
    {
     "data": {
      "text/html": [
       "<div>\n",
       "<style scoped>\n",
       "    .dataframe tbody tr th:only-of-type {\n",
       "        vertical-align: middle;\n",
       "    }\n",
       "\n",
       "    .dataframe tbody tr th {\n",
       "        vertical-align: top;\n",
       "    }\n",
       "\n",
       "    .dataframe thead th {\n",
       "        text-align: right;\n",
       "    }\n",
       "</style>\n",
       "<table border=\"1\" class=\"dataframe\">\n",
       "  <thead>\n",
       "    <tr style=\"text-align: right;\">\n",
       "      <th></th>\n",
       "      <th>Unnamed: 0</th>\n",
       "      <th>bedroomcnt</th>\n",
       "      <th>bathroomcnt</th>\n",
       "      <th>calculatedfinishedsquarefeet</th>\n",
       "      <th>taxvaluedollarcnt</th>\n",
       "      <th>yearbuilt</th>\n",
       "      <th>taxamount</th>\n",
       "      <th>fips</th>\n",
       "    </tr>\n",
       "  </thead>\n",
       "  <tbody>\n",
       "    <tr>\n",
       "      <th>0</th>\n",
       "      <td>0</td>\n",
       "      <td>0.0</td>\n",
       "      <td>0.0</td>\n",
       "      <td>NaN</td>\n",
       "      <td>27516.0</td>\n",
       "      <td>NaN</td>\n",
       "      <td>NaN</td>\n",
       "      <td>6037.0</td>\n",
       "    </tr>\n",
       "    <tr>\n",
       "      <th>1</th>\n",
       "      <td>1</td>\n",
       "      <td>0.0</td>\n",
       "      <td>0.0</td>\n",
       "      <td>NaN</td>\n",
       "      <td>10.0</td>\n",
       "      <td>NaN</td>\n",
       "      <td>NaN</td>\n",
       "      <td>6037.0</td>\n",
       "    </tr>\n",
       "    <tr>\n",
       "      <th>2</th>\n",
       "      <td>2</td>\n",
       "      <td>0.0</td>\n",
       "      <td>0.0</td>\n",
       "      <td>NaN</td>\n",
       "      <td>10.0</td>\n",
       "      <td>NaN</td>\n",
       "      <td>NaN</td>\n",
       "      <td>6037.0</td>\n",
       "    </tr>\n",
       "    <tr>\n",
       "      <th>3</th>\n",
       "      <td>3</td>\n",
       "      <td>0.0</td>\n",
       "      <td>0.0</td>\n",
       "      <td>NaN</td>\n",
       "      <td>2108.0</td>\n",
       "      <td>NaN</td>\n",
       "      <td>174.21</td>\n",
       "      <td>6037.0</td>\n",
       "    </tr>\n",
       "    <tr>\n",
       "      <th>4</th>\n",
       "      <td>4</td>\n",
       "      <td>4.0</td>\n",
       "      <td>2.0</td>\n",
       "      <td>3633.0</td>\n",
       "      <td>296425.0</td>\n",
       "      <td>2005.0</td>\n",
       "      <td>6941.39</td>\n",
       "      <td>6037.0</td>\n",
       "    </tr>\n",
       "    <tr>\n",
       "      <th>...</th>\n",
       "      <td>...</td>\n",
       "      <td>...</td>\n",
       "      <td>...</td>\n",
       "      <td>...</td>\n",
       "      <td>...</td>\n",
       "      <td>...</td>\n",
       "      <td>...</td>\n",
       "      <td>...</td>\n",
       "    </tr>\n",
       "    <tr>\n",
       "      <th>2152858</th>\n",
       "      <td>2152858</td>\n",
       "      <td>4.0</td>\n",
       "      <td>3.0</td>\n",
       "      <td>2262.0</td>\n",
       "      <td>960756.0</td>\n",
       "      <td>2015.0</td>\n",
       "      <td>13494.52</td>\n",
       "      <td>6059.0</td>\n",
       "    </tr>\n",
       "    <tr>\n",
       "      <th>2152859</th>\n",
       "      <td>2152859</td>\n",
       "      <td>4.0</td>\n",
       "      <td>4.5</td>\n",
       "      <td>3127.0</td>\n",
       "      <td>536061.0</td>\n",
       "      <td>2014.0</td>\n",
       "      <td>6244.16</td>\n",
       "      <td>6059.0</td>\n",
       "    </tr>\n",
       "    <tr>\n",
       "      <th>2152860</th>\n",
       "      <td>2152860</td>\n",
       "      <td>0.0</td>\n",
       "      <td>0.0</td>\n",
       "      <td>NaN</td>\n",
       "      <td>208057.0</td>\n",
       "      <td>NaN</td>\n",
       "      <td>5783.88</td>\n",
       "      <td>6059.0</td>\n",
       "    </tr>\n",
       "    <tr>\n",
       "      <th>2152861</th>\n",
       "      <td>2152861</td>\n",
       "      <td>3.0</td>\n",
       "      <td>2.5</td>\n",
       "      <td>1974.0</td>\n",
       "      <td>424353.0</td>\n",
       "      <td>2015.0</td>\n",
       "      <td>5302.70</td>\n",
       "      <td>6059.0</td>\n",
       "    </tr>\n",
       "    <tr>\n",
       "      <th>2152862</th>\n",
       "      <td>2152862</td>\n",
       "      <td>4.0</td>\n",
       "      <td>4.0</td>\n",
       "      <td>2110.0</td>\n",
       "      <td>554009.0</td>\n",
       "      <td>2014.0</td>\n",
       "      <td>6761.20</td>\n",
       "      <td>6037.0</td>\n",
       "    </tr>\n",
       "  </tbody>\n",
       "</table>\n",
       "<p>2152863 rows × 8 columns</p>\n",
       "</div>"
      ],
      "text/plain": [
       "         Unnamed: 0  bedroomcnt  bathroomcnt  calculatedfinishedsquarefeet  \\\n",
       "0                 0         0.0          0.0                           NaN   \n",
       "1                 1         0.0          0.0                           NaN   \n",
       "2                 2         0.0          0.0                           NaN   \n",
       "3                 3         0.0          0.0                           NaN   \n",
       "4                 4         4.0          2.0                        3633.0   \n",
       "...             ...         ...          ...                           ...   \n",
       "2152858     2152858         4.0          3.0                        2262.0   \n",
       "2152859     2152859         4.0          4.5                        3127.0   \n",
       "2152860     2152860         0.0          0.0                           NaN   \n",
       "2152861     2152861         3.0          2.5                        1974.0   \n",
       "2152862     2152862         4.0          4.0                        2110.0   \n",
       "\n",
       "         taxvaluedollarcnt  yearbuilt  taxamount    fips  \n",
       "0                  27516.0        NaN        NaN  6037.0  \n",
       "1                     10.0        NaN        NaN  6037.0  \n",
       "2                     10.0        NaN        NaN  6037.0  \n",
       "3                   2108.0        NaN     174.21  6037.0  \n",
       "4                 296425.0     2005.0    6941.39  6037.0  \n",
       "...                    ...        ...        ...     ...  \n",
       "2152858           960756.0     2015.0   13494.52  6059.0  \n",
       "2152859           536061.0     2014.0    6244.16  6059.0  \n",
       "2152860           208057.0        NaN    5783.88  6059.0  \n",
       "2152861           424353.0     2015.0    5302.70  6059.0  \n",
       "2152862           554009.0     2014.0    6761.20  6037.0  \n",
       "\n",
       "[2152863 rows x 8 columns]"
      ]
     },
     "execution_count": 2,
     "metadata": {},
     "output_type": "execute_result"
    }
   ],
   "source": [
    "# acquired the data\n",
    "df = wrangle.get_zillow17_data()\n",
    "df\n"
   ]
  },
  {
   "cell_type": "code",
   "execution_count": 3,
   "metadata": {},
   "outputs": [
    {
     "data": {
      "text/html": [
       "<div>\n",
       "<style scoped>\n",
       "    .dataframe tbody tr th:only-of-type {\n",
       "        vertical-align: middle;\n",
       "    }\n",
       "\n",
       "    .dataframe tbody tr th {\n",
       "        vertical-align: top;\n",
       "    }\n",
       "\n",
       "    .dataframe thead th {\n",
       "        text-align: right;\n",
       "    }\n",
       "</style>\n",
       "<table border=\"1\" class=\"dataframe\">\n",
       "  <thead>\n",
       "    <tr style=\"text-align: right;\">\n",
       "      <th></th>\n",
       "      <th>bedrooms</th>\n",
       "      <th>bathrooms</th>\n",
       "      <th>finished_sqft</th>\n",
       "      <th>tax_value</th>\n",
       "      <th>year_built</th>\n",
       "      <th>tax_amount</th>\n",
       "      <th>fips</th>\n",
       "    </tr>\n",
       "  </thead>\n",
       "  <tbody>\n",
       "    <tr>\n",
       "      <th>7</th>\n",
       "      <td>3.0</td>\n",
       "      <td>2.0</td>\n",
       "      <td>2077.0</td>\n",
       "      <td>646760.0</td>\n",
       "      <td>1926.0</td>\n",
       "      <td>7924.68</td>\n",
       "      <td>6037.0</td>\n",
       "    </tr>\n",
       "    <tr>\n",
       "      <th>18</th>\n",
       "      <td>3.0</td>\n",
       "      <td>1.0</td>\n",
       "      <td>1244.0</td>\n",
       "      <td>169471.0</td>\n",
       "      <td>1950.0</td>\n",
       "      <td>2532.88</td>\n",
       "      <td>6037.0</td>\n",
       "    </tr>\n",
       "    <tr>\n",
       "      <th>19</th>\n",
       "      <td>3.0</td>\n",
       "      <td>2.0</td>\n",
       "      <td>1300.0</td>\n",
       "      <td>233266.0</td>\n",
       "      <td>1950.0</td>\n",
       "      <td>3110.99</td>\n",
       "      <td>6037.0</td>\n",
       "    </tr>\n",
       "    <tr>\n",
       "      <th>20</th>\n",
       "      <td>3.0</td>\n",
       "      <td>2.0</td>\n",
       "      <td>1222.0</td>\n",
       "      <td>290492.0</td>\n",
       "      <td>1951.0</td>\n",
       "      <td>3870.25</td>\n",
       "      <td>6037.0</td>\n",
       "    </tr>\n",
       "    <tr>\n",
       "      <th>40</th>\n",
       "      <td>2.0</td>\n",
       "      <td>1.0</td>\n",
       "      <td>725.0</td>\n",
       "      <td>37548.0</td>\n",
       "      <td>1953.0</td>\n",
       "      <td>576.47</td>\n",
       "      <td>6037.0</td>\n",
       "    </tr>\n",
       "    <tr>\n",
       "      <th>...</th>\n",
       "      <td>...</td>\n",
       "      <td>...</td>\n",
       "      <td>...</td>\n",
       "      <td>...</td>\n",
       "      <td>...</td>\n",
       "      <td>...</td>\n",
       "      <td>...</td>\n",
       "    </tr>\n",
       "    <tr>\n",
       "      <th>2152815</th>\n",
       "      <td>4.0</td>\n",
       "      <td>2.0</td>\n",
       "      <td>1484.0</td>\n",
       "      <td>71859.0</td>\n",
       "      <td>1955.0</td>\n",
       "      <td>1135.72</td>\n",
       "      <td>6037.0</td>\n",
       "    </tr>\n",
       "    <tr>\n",
       "      <th>2152824</th>\n",
       "      <td>2.0</td>\n",
       "      <td>1.0</td>\n",
       "      <td>710.0</td>\n",
       "      <td>175319.0</td>\n",
       "      <td>1940.0</td>\n",
       "      <td>2040.78</td>\n",
       "      <td>6111.0</td>\n",
       "    </tr>\n",
       "    <tr>\n",
       "      <th>2152831</th>\n",
       "      <td>3.0</td>\n",
       "      <td>2.0</td>\n",
       "      <td>1194.0</td>\n",
       "      <td>271536.0</td>\n",
       "      <td>1954.0</td>\n",
       "      <td>3555.73</td>\n",
       "      <td>6037.0</td>\n",
       "    </tr>\n",
       "    <tr>\n",
       "      <th>2152852</th>\n",
       "      <td>3.0</td>\n",
       "      <td>2.0</td>\n",
       "      <td>1917.0</td>\n",
       "      <td>408680.0</td>\n",
       "      <td>1946.0</td>\n",
       "      <td>4341.32</td>\n",
       "      <td>6111.0</td>\n",
       "    </tr>\n",
       "    <tr>\n",
       "      <th>2152853</th>\n",
       "      <td>4.0</td>\n",
       "      <td>2.0</td>\n",
       "      <td>1987.0</td>\n",
       "      <td>259913.0</td>\n",
       "      <td>1955.0</td>\n",
       "      <td>3175.66</td>\n",
       "      <td>6059.0</td>\n",
       "    </tr>\n",
       "  </tbody>\n",
       "</table>\n",
       "<p>1801942 rows × 7 columns</p>\n",
       "</div>"
      ],
      "text/plain": [
       "         bedrooms  bathrooms  finished_sqft  tax_value  year_built  \\\n",
       "7             3.0        2.0         2077.0   646760.0      1926.0   \n",
       "18            3.0        1.0         1244.0   169471.0      1950.0   \n",
       "19            3.0        2.0         1300.0   233266.0      1950.0   \n",
       "20            3.0        2.0         1222.0   290492.0      1951.0   \n",
       "40            2.0        1.0          725.0    37548.0      1953.0   \n",
       "...           ...        ...            ...        ...         ...   \n",
       "2152815       4.0        2.0         1484.0    71859.0      1955.0   \n",
       "2152824       2.0        1.0          710.0   175319.0      1940.0   \n",
       "2152831       3.0        2.0         1194.0   271536.0      1954.0   \n",
       "2152852       3.0        2.0         1917.0   408680.0      1946.0   \n",
       "2152853       4.0        2.0         1987.0   259913.0      1955.0   \n",
       "\n",
       "         tax_amount    fips  \n",
       "7           7924.68  6037.0  \n",
       "18          2532.88  6037.0  \n",
       "19          3110.99  6037.0  \n",
       "20          3870.25  6037.0  \n",
       "40           576.47  6037.0  \n",
       "...             ...     ...  \n",
       "2152815     1135.72  6037.0  \n",
       "2152824     2040.78  6111.0  \n",
       "2152831     3555.73  6037.0  \n",
       "2152852     4341.32  6111.0  \n",
       "2152853     3175.66  6059.0  \n",
       "\n",
       "[1801942 rows x 7 columns]"
      ]
     },
     "execution_count": 3,
     "metadata": {},
     "output_type": "execute_result"
    }
   ],
   "source": [
    "# prepare data (fill missing values, etc.)\n",
    "df = prepare.prep_zillow17(df)\n",
    "# remove outliers except (fibs)\n",
    "df = prepare.remove_outliers_fibs(df, 1.5)\n",
    "df"
   ]
  },
  {
   "cell_type": "code",
   "execution_count": 4,
   "metadata": {},
   "outputs": [
    {
     "name": "stdout",
     "output_type": "stream",
     "text": [
      "(1009087, 7)\n",
      "(432466, 7)\n",
      "(360389, 7)\n"
     ]
    }
   ],
   "source": [
    "# split data into train and test\n",
    "train, validate, test = prepare.split_dataframe(df)\n",
    "print(train.shape)\n",
    "print(validate.shape)\n",
    "print(test.shape)"
   ]
  },
  {
   "cell_type": "markdown",
   "metadata": {},
   "source": [
    "1. Apply the scalers we talked about in this lesson to your data and visualize the results for the unscaled and scaled distribution ."
   ]
  },
  {
   "cell_type": "code",
   "execution_count": 5,
   "metadata": {},
   "outputs": [],
   "source": [
    "# utilize min-max scaling on train\n",
    "scaler = sklearn.preprocessing.MinMaxScaler()\n",
    "scaler.fit_transform(train)\n",
    "# apply min-max scaling on train, validate, test\n",
    "train_scaled_mm = scaler.transform(train)\n",
    "validate_scaled_mm = scaler.transform(validate)\n",
    "test_scaled_mm = scaler.transform(test)"
   ]
  },
  {
   "cell_type": "code",
   "execution_count": 25,
   "metadata": {},
   "outputs": [
    {
     "data": {
      "image/png": "[encoded data removed]",
      "text/plain": [
       "<Figure size 720x432 with 2 Axes>"
      ]
     },
     "metadata": {
      "needs_background": "light"
     },
     "output_type": "display_data"
    }
   ],
   "source": [
    "# visualize the data for train and train_scaled_mm for each column\n",
    "plt.figure(figsize=(10, 6))\n",
    "plt.subplot(1, 2, 1)\n",
    "plt.hist(train, bins=50, ec='blue', label='train')\n",
    "plt.title('Train')\n",
    "plt.subplot(1, 2, 2)\n",
    "plt.hist(train_scaled_mm, bins=50, ec='red', label='train_scaled')\n",
    "plt.title('Train Scaled Min-Max')\n",
    "plt.show()\n",
    "\n"
   ]
  },
  {
   "cell_type": "markdown",
   "metadata": {},
   "source": [
    "Min-Max scaler is used to scale the data to a range of 0 to 1. It is a good idea to scale your data to a range of 0 to 1 before you apply a classifier. This is because the classifier may not be able to handle the data range that you have scaled to. For example, if you have a classifier that is only able to handle data between 0 and 1, then you will not be able to apply it to the data that you have scaled to a range of 0 to 1."
   ]
  },
  {
   "cell_type": "code",
   "execution_count": 7,
   "metadata": {},
   "outputs": [],
   "source": [
    "# utilize standard scaling on train\n",
    "scaler = sklearn.preprocessing.StandardScaler()\n",
    "scaler.fit_transform(train)\n",
    "# apply standard scaling on train, validate, test\n",
    "train_scaled_sd = scaler.transform(train)\n",
    "validate_scaled_sd = scaler.transform(validate)\n",
    "test_scaled_sd = scaler.transform(test)"
   ]
  },
  {
   "cell_type": "code",
   "execution_count": 8,
   "metadata": {},
   "outputs": [
    {
     "data": {
      "image/png": "[encoded data removed]",
      "text/plain": [
       "<Figure size 720x432 with 2 Axes>"
      ]
     },
     "metadata": {
      "needs_background": "light"
     },
     "output_type": "display_data"
    }
   ],
   "source": [
    "# visualize the data for train and train_scaled_sd\n",
    "plt.figure(figsize=(10, 6))\n",
    "plt.subplot(1, 2, 1)\n",
    "plt.hist(train, bins=50, ec='blue', label='train')\n",
    "plt.title('Train')\n",
    "plt.subplot(1, 2, 2)\n",
    "plt.hist(train_scaled_sd, bins=50, ec='red', label='train_scaled')\n",
    "plt.title('Train Scaled Standard')\n",
    "plt.show()"
   ]
  },
  {
   "cell_type": "markdown",
   "metadata": {},
   "source": [
    "Standard scaler is used to scale the data to a range of -1 to 1. It is recommended to use the Standard scaler for the data that is not in a range of 0 to 1."
   ]
  },
  {
   "cell_type": "code",
   "execution_count": 9,
   "metadata": {},
   "outputs": [],
   "source": [
    "# utilize Robust scaling on train\n",
    "scaler = sklearn.preprocessing.RobustScaler()\n",
    "scaler.fit_transform(train)\n",
    "# apply Robust scaling on train, validate, test\n",
    "train_scaled_rs = scaler.transform(train)\n",
    "validate_scaled_rs = scaler.transform(validate)\n",
    "test_scaled_rs = scaler.transform(test)"
   ]
  },
  {
   "cell_type": "code",
   "execution_count": 10,
   "metadata": {},
   "outputs": [
    {
     "data": {
      "image/png": "[encoded data removed]",
      "text/plain": [
       "<Figure size 720x432 with 2 Axes>"
      ]
     },
     "metadata": {
      "needs_background": "light"
     },
     "output_type": "display_data"
    }
   ],
   "source": [
    "# visualize the data for train and train_scaled_rs\n",
    "plt.figure(figsize=(10, 6))\n",
    "plt.subplot(1, 2, 1)\n",
    "plt.hist(train, bins=50, ec='blue', label='train')\n",
    "plt.title('Train')\n",
    "plt.subplot(1, 2, 2)\n",
    "plt.hist(train_scaled_rs, bins=50, ec='red', label='train_scaled')\n",
    "plt.title('Train Scaled Robust')\n",
    "plt.show()"
   ]
  },
  {
   "cell_type": "markdown",
   "metadata": {},
   "source": [
    "Robust scaler is used to scale the data to a range of -1 to 1. It is used to handle outliers.An example of an outlier is a value that is much higher than the other values in the data."
   ]
  },
  {
   "cell_type": "markdown",
   "metadata": {},
   "source": [
    "2. Apply the .inverse_transform method to your scaled data. Is the resulting dataset the exact same as the original data?"
   ]
  },
  {
   "cell_type": "code",
   "execution_count": 11,
   "metadata": {},
   "outputs": [],
   "source": [
    "# apply inverse transform on train_scaled_mm, train_scaled_sd, train_scaled_rs\n",
    "train_scaled_mm_inv = scaler.inverse_transform(train_scaled_mm)\n",
    "train_scaled_sd_inv = scaler.inverse_transform(train_scaled_sd)\n",
    "train_scaled_rs_inv = scaler.inverse_transform(train_scaled_rs)"
   ]
  },
  {
   "cell_type": "code",
   "execution_count": 12,
   "metadata": {},
   "outputs": [
    {
     "data": {
      "image/png": "[encoded data removed]",
      "text/plain": [
       "<Figure size 720x432 with 4 Axes>"
      ]
     },
     "metadata": {
      "needs_background": "light"
     },
     "output_type": "display_data"
    }
   ],
   "source": [
    "# visualize the data for train_scaled_mm_inv, train_scaled_sd_inv, train_scaled_rs_inv compared to train\n",
    "plt.figure(figsize=(10, 6))\n",
    "plt.subplot(1, 4, 1)\n",
    "plt.hist(train, bins=50, ec='blue', label='train')\n",
    "plt.title('Train')\n",
    "plt.subplot(1, 4, 2)\n",
    "plt.hist(train_scaled_mm_inv, bins=50, ec='red', label='train_scaled_mm_inv')\n",
    "plt.title('Train MM Inv')\n",
    "plt.subplot(1, 4, 3)\n",
    "plt.hist(train_scaled_rs_inv, bins=50, ec='green', label='train_scaled_rs_inv')\n",
    "plt.title('Train RS Inv')\n",
    "plt.subplot(1, 4, 4)\n",
    "plt.hist(train_scaled_sd_inv, bins=50, ec='orange', label='train_scaled_sd_inv')\n",
    "plt.title('Train SD Inv')\n",
    "plt.show()"
   ]
  },
  {
   "cell_type": "markdown",
   "metadata": {},
   "source": [
    "I noticed that the scaled data is not exactly the same as the original data. This is because the scaler scales the data to a range of 0 to 1. The inverse_transform method is used to scale the data back to the original range."
   ]
  },
  {
   "cell_type": "markdown",
   "metadata": {},
   "source": [
    "3. Read the documentation for sklearn's QuantileTransformer. Use normal for the output_distribution and apply this scaler to your data. Visualize the result of your data scaling."
   ]
  },
  {
   "cell_type": "code",
   "execution_count": 13,
   "metadata": {},
   "outputs": [],
   "source": [
    "# utilize QuantileTransformer on df\n",
    "scaler = sklearn.preprocessing.QuantileTransformer(output_distribution='normal')\n",
    "scaler.fit_transform(train)\n",
    "# apply QuantileTransformer on train, validate, test\n",
    "train_scaled_qt = scaler.transform(train)\n",
    "validate_scaled_qt = scaler.transform(validate)\n",
    "test_scaled_qt = scaler.transform(test)"
   ]
  },
  {
   "cell_type": "code",
   "execution_count": 14,
   "metadata": {},
   "outputs": [
    {
     "data": {
      "image/png": "[encoded data removed]",
      "text/plain": [
       "<Figure size 720x432 with 2 Axes>"
      ]
     },
     "metadata": {
      "needs_background": "light"
     },
     "output_type": "display_data"
    }
   ],
   "source": [
    "# visualize the data for train and train_scaled_qt\n",
    "plt.figure(figsize=(10, 6))\n",
    "plt.subplot(1, 2, 1)\n",
    "plt.hist(train, bins=50, ec='blue', label='train')\n",
    "plt.title('Train')\n",
    "plt.subplot(1, 2, 2)\n",
    "plt.hist(train_scaled_qt, bins=50, ec='red', label='train_scaled')\n",
    "plt.title('Train Scaled Quantile')\n",
    "plt.show()"
   ]
  },
  {
   "cell_type": "markdown",
   "metadata": {},
   "source": [
    "4. Use the QuantileTransformer, but omit the output_distribution argument. Visualize your results. What do you notice?"
   ]
  },
  {
   "cell_type": "code",
   "execution_count": 15,
   "metadata": {},
   "outputs": [],
   "source": [
    "# utilize QuantileTransformer on df but omit output_distribution\n",
    "scaler = sklearn.preprocessing.QuantileTransformer()\n",
    "scaler.fit_transform(train)\n",
    "# apply QuantileTransformer on train, validate, test\n",
    "train_scaled_qt_no_dist = scaler.transform(train)\n",
    "validate_scaled_qt_no_dist = scaler.transform(validate)\n",
    "test_scaled_qt_no_dist = scaler.transform(test)"
   ]
  },
  {
   "cell_type": "code",
   "execution_count": 16,
   "metadata": {},
   "outputs": [
    {
     "data": {
      "image/png": "[encoded data removed]",
      "text/plain": [
       "<Figure size 720x432 with 2 Axes>"
      ]
     },
     "metadata": {
      "needs_background": "light"
     },
     "output_type": "display_data"
    }
   ],
   "source": [
    "# visualize the data for train and train_scaled_qt_no_dist\n",
    "plt.figure(figsize=(10, 6))\n",
    "plt.subplot(1, 2, 1)\n",
    "plt.hist(train, bins=50, ec='blue', label='train')\n",
    "plt.title('Train')\n",
    "plt.subplot(1, 2, 2)\n",
    "plt.hist(train_scaled_qt_no_dist, bins=50, ec='red', label='train_scaled')\n",
    "plt.title('Train Scaled Quantile No Dist')\n",
    "plt.show()"
   ]
  },
  {
   "cell_type": "markdown",
   "metadata": {},
   "source": [
    "I noticed that the QuantileTransformer with output_distribution=normal does not work as well due to outlies. The output_distribution argument is used to determine the distribution of the transformed data. If the output_distribution is not specified, the transformed data is assumed to be a Gaussian distribution. This is not the case for the output_distribution=normal."
   ]
  },
  {
   "cell_type": "markdown",
   "metadata": {},
   "source": [
    "5. Based on the work you've done, choose a scaling method for your dataset. Write a function within your prepare.py that accepts as input the train, validate, and test data splits, and returns the scaled versions of each. Be sure to only learn the parameters for scaling from your training data!"
   ]
  },
  {
   "cell_type": "code",
   "execution_count": 17,
   "metadata": {},
   "outputs": [],
   "source": [
    "# Create a function for prepare.py that accepts as input the train, validate, and test data splits, and returns the scaled versions of the data splits.\n",
    "def standard_scaler(train, validate, test):\n",
    "    scaler = sklearn.preprocessing.StandardScaler()\n",
    "    scaler.fit(train)\n",
    "    train_scaled = scaler.transform(train)\n",
    "    validate_scaled = scaler.transform(validate)\n",
    "    test_scaled = scaler.transform(test)\n",
    "    return train_scaled, validate_scaled, test_scaled"
   ]
  },
  {
   "cell_type": "code",
   "execution_count": 18,
   "metadata": {},
   "outputs": [],
   "source": [
    "def min_max_scaler(train, validate, test):\n",
    "    scaler = sklearn.preprocessing.MinMaxScaler()\n",
    "    scaler.fit(train)\n",
    "    train_scaled = scaler.transform(train)\n",
    "    validate_scaled = scaler.transform(validate)\n",
    "    test_scaled = scaler.transform(test)\n",
    "    return train_scaled, validate_scaled, test_scaled"
   ]
  },
  {
   "cell_type": "code",
   "execution_count": 19,
   "metadata": {},
   "outputs": [],
   "source": [
    "def robust_scaler(train, validate, test):\n",
    "    scaler = sklearn.preprocessing.RobustScaler()\n",
    "    scaler.fit(train)\n",
    "    train_scaled = scaler.transform(train)\n",
    "    validate_scaled = scaler.transform(validate)\n",
    "    test_scaled = scaler.transform(test)\n",
    "    return train_scaled, validate_scaled, test_scaled"
   ]
  },
  {
   "cell_type": "code",
   "execution_count": null,
   "metadata": {},
   "outputs": [],
   "source": []
  }
 ],
 "metadata": {
  "interpreter": {
   "hash": "3067ead486e059ec00ffe7555bdb889e6e264a24dc711bf108106cc7baee8d5d"
  },
  "kernelspec": {
   "display_name": "Python 3.9.7 ('base')",
   "language": "python",
   "name": "python3"
  },
  "language_info": {
   "codemirror_mode": {
    "name": "ipython",
    "version": 3
   },
   "file_extension": ".py",
   "mimetype": "text/x-python",
   "name": "python",
   "nbconvert_exporter": "python",
   "pygments_lexer": "ipython3",
   "version": "3.9.7"
  },
  "orig_nbformat": 4
 },
 "nbformat": 4,
 "nbformat_minor": 2
}
