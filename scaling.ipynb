{
 "cells": [
  {
   "cell_type": "code",
   "execution_count": 1,
   "metadata": {},
   "outputs": [],
   "source": [
    "# imports from lesson\n",
    "import matplotlib.pyplot as plt\n",
    "import numpy as np\n",
    "from scipy import stats\n",
    "import sklearn.preprocessing\n",
    "from sklearn.model_selection import train_test_split\n",
    "import pandas as pd\n",
    "# wrangled data\n",
    "import wrangle\n"
   ]
  },
  {
   "cell_type": "code",
   "execution_count": 2,
   "metadata": {},
   "outputs": [
    {
     "name": "stdout",
     "output_type": "stream",
     "text": [
      "Let me get that for you...\n"
     ]
    },
    {
     "data": {
      "text/html": [
       "<div>\n",
       "<style scoped>\n",
       "    .dataframe tbody tr th:only-of-type {\n",
       "        vertical-align: middle;\n",
       "    }\n",
       "\n",
       "    .dataframe tbody tr th {\n",
       "        vertical-align: top;\n",
       "    }\n",
       "\n",
       "    .dataframe thead th {\n",
       "        text-align: right;\n",
       "    }\n",
       "</style>\n",
       "<table border=\"1\" class=\"dataframe\">\n",
       "  <thead>\n",
       "    <tr style=\"text-align: right;\">\n",
       "      <th></th>\n",
       "      <th>bedroomcnt</th>\n",
       "      <th>bathroomcnt</th>\n",
       "      <th>calculatedfinishedsquarefeet</th>\n",
       "      <th>taxvaluedollarcnt</th>\n",
       "      <th>yearbuilt</th>\n",
       "      <th>taxamount</th>\n",
       "      <th>fips</th>\n",
       "    </tr>\n",
       "  </thead>\n",
       "  <tbody>\n",
       "    <tr>\n",
       "      <th>4</th>\n",
       "      <td>4.0</td>\n",
       "      <td>2.0</td>\n",
       "      <td>3633.0</td>\n",
       "      <td>296425.0</td>\n",
       "      <td>2005.0</td>\n",
       "      <td>6941.39</td>\n",
       "      <td>6037.0</td>\n",
       "    </tr>\n",
       "    <tr>\n",
       "      <th>6</th>\n",
       "      <td>3.0</td>\n",
       "      <td>4.0</td>\n",
       "      <td>1620.0</td>\n",
       "      <td>847770.0</td>\n",
       "      <td>2011.0</td>\n",
       "      <td>10244.94</td>\n",
       "      <td>6037.0</td>\n",
       "    </tr>\n",
       "    <tr>\n",
       "      <th>7</th>\n",
       "      <td>3.0</td>\n",
       "      <td>2.0</td>\n",
       "      <td>2077.0</td>\n",
       "      <td>646760.0</td>\n",
       "      <td>1926.0</td>\n",
       "      <td>7924.68</td>\n",
       "      <td>6037.0</td>\n",
       "    </tr>\n",
       "    <tr>\n",
       "      <th>18</th>\n",
       "      <td>3.0</td>\n",
       "      <td>1.0</td>\n",
       "      <td>1244.0</td>\n",
       "      <td>169471.0</td>\n",
       "      <td>1950.0</td>\n",
       "      <td>2532.88</td>\n",
       "      <td>6037.0</td>\n",
       "    </tr>\n",
       "    <tr>\n",
       "      <th>19</th>\n",
       "      <td>3.0</td>\n",
       "      <td>2.0</td>\n",
       "      <td>1300.0</td>\n",
       "      <td>233266.0</td>\n",
       "      <td>1950.0</td>\n",
       "      <td>3110.99</td>\n",
       "      <td>6037.0</td>\n",
       "    </tr>\n",
       "    <tr>\n",
       "      <th>...</th>\n",
       "      <td>...</td>\n",
       "      <td>...</td>\n",
       "      <td>...</td>\n",
       "      <td>...</td>\n",
       "      <td>...</td>\n",
       "      <td>...</td>\n",
       "      <td>...</td>\n",
       "    </tr>\n",
       "    <tr>\n",
       "      <th>2152856</th>\n",
       "      <td>4.0</td>\n",
       "      <td>4.0</td>\n",
       "      <td>4375.0</td>\n",
       "      <td>422400.0</td>\n",
       "      <td>2015.0</td>\n",
       "      <td>13877.56</td>\n",
       "      <td>6037.0</td>\n",
       "    </tr>\n",
       "    <tr>\n",
       "      <th>2152858</th>\n",
       "      <td>4.0</td>\n",
       "      <td>3.0</td>\n",
       "      <td>2262.0</td>\n",
       "      <td>960756.0</td>\n",
       "      <td>2015.0</td>\n",
       "      <td>13494.52</td>\n",
       "      <td>6059.0</td>\n",
       "    </tr>\n",
       "    <tr>\n",
       "      <th>2152859</th>\n",
       "      <td>4.0</td>\n",
       "      <td>4.5</td>\n",
       "      <td>3127.0</td>\n",
       "      <td>536061.0</td>\n",
       "      <td>2014.0</td>\n",
       "      <td>6244.16</td>\n",
       "      <td>6059.0</td>\n",
       "    </tr>\n",
       "    <tr>\n",
       "      <th>2152861</th>\n",
       "      <td>3.0</td>\n",
       "      <td>2.5</td>\n",
       "      <td>1974.0</td>\n",
       "      <td>424353.0</td>\n",
       "      <td>2015.0</td>\n",
       "      <td>5302.70</td>\n",
       "      <td>6059.0</td>\n",
       "    </tr>\n",
       "    <tr>\n",
       "      <th>2152862</th>\n",
       "      <td>4.0</td>\n",
       "      <td>4.0</td>\n",
       "      <td>2110.0</td>\n",
       "      <td>554009.0</td>\n",
       "      <td>2014.0</td>\n",
       "      <td>6761.20</td>\n",
       "      <td>6037.0</td>\n",
       "    </tr>\n",
       "  </tbody>\n",
       "</table>\n",
       "<p>2047713 rows × 7 columns</p>\n",
       "</div>"
      ],
      "text/plain": [
       "         bedroomcnt  bathroomcnt  calculatedfinishedsquarefeet  \\\n",
       "4               4.0          2.0                        3633.0   \n",
       "6               3.0          4.0                        1620.0   \n",
       "7               3.0          2.0                        2077.0   \n",
       "18              3.0          1.0                        1244.0   \n",
       "19              3.0          2.0                        1300.0   \n",
       "...             ...          ...                           ...   \n",
       "2152856         4.0          4.0                        4375.0   \n",
       "2152858         4.0          3.0                        2262.0   \n",
       "2152859         4.0          4.5                        3127.0   \n",
       "2152861         3.0          2.5                        1974.0   \n",
       "2152862         4.0          4.0                        2110.0   \n",
       "\n",
       "         taxvaluedollarcnt  yearbuilt  taxamount    fips  \n",
       "4                 296425.0     2005.0    6941.39  6037.0  \n",
       "6                 847770.0     2011.0   10244.94  6037.0  \n",
       "7                 646760.0     1926.0    7924.68  6037.0  \n",
       "18                169471.0     1950.0    2532.88  6037.0  \n",
       "19                233266.0     1950.0    3110.99  6037.0  \n",
       "...                    ...        ...        ...     ...  \n",
       "2152856           422400.0     2015.0   13877.56  6037.0  \n",
       "2152858           960756.0     2015.0   13494.52  6059.0  \n",
       "2152859           536061.0     2014.0    6244.16  6059.0  \n",
       "2152861           424353.0     2015.0    5302.70  6059.0  \n",
       "2152862           554009.0     2014.0    6761.20  6037.0  \n",
       "\n",
       "[2047713 rows x 7 columns]"
      ]
     },
     "execution_count": 2,
     "metadata": {},
     "output_type": "execute_result"
    }
   ],
   "source": [
    "# acquired the data\n",
    "df = wrangle.get_zillow17_data()\n",
    "# prepare data (fill missing values, etc.)\n",
    "df = wrangle.prep_zillow17(df)\n",
    "# remove outliers except (fibs)\n",
    "df = wrangle.remove_outliers_fibs(df, 3)\n",
    "df"
   ]
  },
  {
   "cell_type": "code",
   "execution_count": 3,
   "metadata": {},
   "outputs": [
    {
     "name": "stdout",
     "output_type": "stream",
     "text": [
      "(1146719, 7)\n",
      "(491451, 7)\n",
      "(409543, 7)\n"
     ]
    }
   ],
   "source": [
    "# split data into train and test\n",
    "train, validate, test = wrangle.split_dataframe(df)\n",
    "print(train.shape)\n",
    "print(validate.shape)\n",
    "print(test.shape)"
   ]
  },
  {
   "cell_type": "markdown",
   "metadata": {},
   "source": [
    "1. Apply the scalers we talked about in this lesson to your data and visualize the results for the unscaled and scaled distribution ."
   ]
  },
  {
   "cell_type": "code",
   "execution_count": 4,
   "metadata": {},
   "outputs": [],
   "source": [
    "# utilize min-max scaling on train\n",
    "scaler = sklearn.preprocessing.MinMaxScaler()\n",
    "scaler.fit_transform(train)\n",
    "# apply min-max scaling on train, validate, test\n",
    "train_scaled_mm = scaler.transform(train)\n",
    "validate_scaled_mm = scaler.transform(validate)\n",
    "test_scaled_mm = scaler.transform(test)"
   ]
  },
  {
   "cell_type": "code",
   "execution_count": 24,
   "metadata": {},
   "outputs": [
    {
     "data": {
      "image/png": "[encoded data removed]",
      "text/plain": [
       "<Figure size 720x432 with 2 Axes>"
      ]
     },
     "metadata": {
      "needs_background": "light"
     },
     "output_type": "display_data"
    }
   ],
   "source": [
    "# visualize the data for train and train_scaled_mm\n",
    "plt.figure(figsize=(10, 6))\n",
    "plt.subplot(1, 2, 1)\n",
    "plt.hist(train, bins=50, ec='blue', label='train')\n",
    "plt.title('Train')\n",
    "plt.subplot(1, 2, 2)\n",
    "plt.hist(train_scaled_mm, bins=50, ec='red', label='train_scaled')\n",
    "plt.title('Train Scaled Min-Max')\n",
    "plt.show()\n",
    "\n"
   ]
  },
  {
   "cell_type": "markdown",
   "metadata": {},
   "source": []
  },
  {
   "cell_type": "code",
   "execution_count": 6,
   "metadata": {},
   "outputs": [],
   "source": [
    "# utilize standard scaling on train\n",
    "scaler = sklearn.preprocessing.StandardScaler()\n",
    "scaler.fit_transform(train)\n",
    "# apply standard scaling on train, validate, test\n",
    "train_scaled_sd = scaler.transform(train)\n",
    "validate_scaled_sd = scaler.transform(validate)\n",
    "test_scaled_sd = scaler.transform(test)"
   ]
  },
  {
   "cell_type": "code",
   "execution_count": 23,
   "metadata": {},
   "outputs": [
    {
     "data": {
      "image/png": "[encoded data removed]",
      "text/plain": [
       "<Figure size 720x432 with 2 Axes>"
      ]
     },
     "metadata": {
      "needs_background": "light"
     },
     "output_type": "display_data"
    }
   ],
   "source": [
    "# visualize the data for train and train_scaled_sd\n",
    "plt.figure(figsize=(10, 6))\n",
    "plt.subplot(1, 2, 1)\n",
    "plt.hist(train, bins=50, ec='blue', label='train')\n",
    "plt.title('Train')\n",
    "plt.subplot(1, 2, 2)\n",
    "plt.hist(train_scaled_sd, bins=50, ec='red', label='train_scaled')\n",
    "plt.title('Train Scaled Standard')\n",
    "plt.show()"
   ]
  },
  {
   "cell_type": "code",
   "execution_count": 8,
   "metadata": {},
   "outputs": [],
   "source": [
    "# utilize Robust scaling on train\n",
    "scaler = sklearn.preprocessing.RobustScaler()\n",
    "scaler.fit_transform(train)\n",
    "# apply Robust scaling on train, validate, test\n",
    "train_scaled_rs = scaler.transform(train)\n",
    "validate_scaled_rs = scaler.transform(validate)\n",
    "test_scaled_rs = scaler.transform(test)"
   ]
  },
  {
   "cell_type": "code",
   "execution_count": 22,
   "metadata": {},
   "outputs": [
    {
     "data": {
      "image/png": "[encoded data removed]",
      "text/plain": [
       "<Figure size 720x432 with 2 Axes>"
      ]
     },
     "metadata": {
      "needs_background": "light"
     },
     "output_type": "display_data"
    }
   ],
   "source": [
    "# visualize the data for train and train_scaled_rs\n",
    "plt.figure(figsize=(10, 6))\n",
    "plt.subplot(1, 2, 1)\n",
    "plt.hist(train, bins=50, ec='blue', label='train')\n",
    "plt.title('Train')\n",
    "plt.subplot(1, 2, 2)\n",
    "plt.hist(train_scaled_rs, bins=50, ec='red', label='train_scaled')\n",
    "plt.title('Train Scaled Robust')\n",
    "plt.show()"
   ]
  },
  {
   "cell_type": "markdown",
   "metadata": {},
   "source": [
    "2. Apply the .inverse_transform method to your scaled data. Is the resulting dataset the exact same as the original data?"
   ]
  },
  {
   "cell_type": "code",
   "execution_count": 10,
   "metadata": {},
   "outputs": [],
   "source": [
    "# apply inverse transform on train_scaled_mm, train_scaled_sd, train_scaled_rs\n",
    "train_scaled_mm_inv = scaler.inverse_transform(train_scaled_mm)\n",
    "train_scaled_sd_inv = scaler.inverse_transform(train_scaled_sd)\n",
    "train_scaled_rs_inv = scaler.inverse_transform(train_scaled_rs)"
   ]
  },
  {
   "cell_type": "code",
   "execution_count": 18,
   "metadata": {},
   "outputs": [
    {
     "data": {
      "image/png": "[encoded data removed]",
      "text/plain": [
       "<Figure size 720x432 with 4 Axes>"
      ]
     },
     "metadata": {
      "needs_background": "light"
     },
     "output_type": "display_data"
    }
   ],
   "source": [
    "# visualize the data for train_scaled_mm_inv, train_scaled_sd_inv, train_scaled_rs_inv compared to train\n",
    "plt.figure(figsize=(10, 6))\n",
    "plt.subplot(1, 4, 1)\n",
    "plt.hist(train, bins=50, ec='blue', label='train')\n",
    "plt.title('Train')\n",
    "plt.subplot(1, 4, 2)\n",
    "plt.hist(train_scaled_mm_inv, bins=50, ec='red', label='train_scaled_mm_inv')\n",
    "plt.title('Train MM Inv')\n",
    "plt.subplot(1, 4, 3)\n",
    "plt.hist(train_scaled_rs_inv, bins=50, ec='green', label='train_scaled_rs_inv')\n",
    "plt.title('Train RS Inv')\n",
    "plt.subplot(1, 4, 4)\n",
    "plt.hist(train_scaled_sd_inv, bins=50, ec='orange', label='train_scaled_sd_inv')\n",
    "plt.title('Train SD Inv')\n",
    "plt.show()"
   ]
  },
  {
   "cell_type": "markdown",
   "metadata": {},
   "source": [
    "3. Read the documentation for sklearn's QuantileTransformer. Use normal for the output_distribution and apply this scaler to your data. Visualize the result of your data scaling."
   ]
  },
  {
   "cell_type": "code",
   "execution_count": 19,
   "metadata": {},
   "outputs": [],
   "source": [
    "# utilize QuantileTransformer on df\n",
    "scaler = sklearn.preprocessing.QuantileTransformer(output_distribution='normal')\n",
    "scaler.fit_transform(train)\n",
    "# apply QuantileTransformer on train, validate, test\n",
    "train_scaled_qt = scaler.transform(train)\n",
    "validate_scaled_qt = scaler.transform(validate)\n",
    "test_scaled_qt = scaler.transform(test)"
   ]
  },
  {
   "cell_type": "code",
   "execution_count": 21,
   "metadata": {},
   "outputs": [
    {
     "data": {
      "image/png": "[encoded data removed]",
      "text/plain": [
       "<Figure size 720x432 with 2 Axes>"
      ]
     },
     "metadata": {
      "needs_background": "light"
     },
     "output_type": "display_data"
    }
   ],
   "source": [
    "# visualize the data for train and train_scaled_qt\n",
    "plt.figure(figsize=(10, 6))\n",
    "plt.subplot(1, 2, 1)\n",
    "plt.hist(train, bins=50, ec='blue', label='train')\n",
    "plt.title('Train')\n",
    "plt.subplot(1, 2, 2)\n",
    "plt.hist(train_scaled_qt, bins=50, ec='red', label='train_scaled')\n",
    "plt.title('Train Scaled Quantile')\n",
    "plt.show()"
   ]
  },
  {
   "cell_type": "markdown",
   "metadata": {},
   "source": [
    "5. Based on the work you've done, choose a scaling method for your dataset. Write a function within your prepare.py that accepts as input the train, validate, and test data splits, and returns the scaled versions of each. Be sure to only learn the parameters for scaling from your training data!"
   ]
  },
  {
   "cell_type": "code",
   "execution_count": null,
   "metadata": {},
   "outputs": [],
   "source": []
  }
 ],
 "metadata": {
  "interpreter": {
   "hash": "3067ead486e059ec00ffe7555bdb889e6e264a24dc711bf108106cc7baee8d5d"
  },
  "kernelspec": {
   "display_name": "Python 3.9.7 ('base')",
   "language": "python",
   "name": "python3"
  },
  "language_info": {
   "codemirror_mode": {
    "name": "ipython",
    "version": 3
   },
   "file_extension": ".py",
   "mimetype": "text/x-python",
   "name": "python",
   "nbconvert_exporter": "python",
   "pygments_lexer": "ipython3",
   "version": "3.9.7"
  },
  "orig_nbformat": 4
 },
 "nbformat": 4,
 "nbformat_minor": 2
}
