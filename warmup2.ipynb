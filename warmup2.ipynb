{
 "cells": [
  {
   "cell_type": "code",
   "execution_count": 1,
   "id": "4f95fefb-13eb-4017-a1ba-ce979d1e0da0",
   "metadata": {},
   "outputs": [],
   "source": [
    "import pandas as pd\n",
    "\n",
    "df = pd.read_csv('https://raw.githubusercontent.com/zgulde/tidytuesday/master/data/2022/2022-02-01/breed_traits.csv')"
   ]
  },
  {
   "cell_type": "markdown",
   "id": "5daad97e-3690-4d06-a295-2de4eb3a6e28",
   "metadata": {},
   "source": [
    "This dataset contains information on different dog breeds. Answer the following questions:\n",
    "\n",
    "- How many breeds have an energy level of 5? `35`\n",
    "- How many different coat types are there? `10`\n",
    "- What is the average drooling level of breeds with a long coat length? `1.483`\n",
    "- What is the barking level of Anatolian Shepherd Dogs? `3`\n",
    "- How many breeds have a smooth coat type, a short coat length, and a playfulness level of 3? `27`\n",
    "- What percentage of breeds fall into each value of adaptability level? Make a visualization like the one below showing this"
   ]
  },
  {
   "attachments": {
    "805baeb8-a81a-4f98-8aa5-7769c38791fb.png": {
     "image/png": "[encoded data removed]"
    }
   },
   "cell_type": "markdown",
   "id": "49a426a3-aba0-44de-8dff-0c05e36e6df9",
   "metadata": {},
   "source": [
    "![image.png](attachment:805baeb8-a81a-4f98-8aa5-7769c38791fb.png)"
   ]
  },
  {
   "cell_type": "code",
   "execution_count": 2,
   "id": "9ddc9877",
   "metadata": {},
   "outputs": [
    {
     "name": "stdout",
     "output_type": "stream",
     "text": [
      "There are 35 breeds with an energy level of 5.\n"
     ]
    }
   ],
   "source": [
    "# How many breeds have an energy level of 5?\n",
    "df[df['Energy Level'] == 5].shape[0]\n",
    "print('There are', df[df['Energy Level'] == 5].shape[0], 'breeds with an energy level of 5.')"
   ]
  },
  {
   "cell_type": "code",
   "execution_count": 3,
   "id": "5170861d",
   "metadata": {},
   "outputs": [
    {
     "name": "stdout",
     "output_type": "stream",
     "text": [
      "There are 10 different coat types.\n"
     ]
    }
   ],
   "source": [
    "# How many different coat types are there?\n",
    "df['Coat Type'].nunique()\n",
    "print('There are', df['Coat Type'].nunique(), 'different coat types.')"
   ]
  },
  {
   "cell_type": "code",
   "execution_count": 5,
   "id": "f19ea3a5",
   "metadata": {},
   "outputs": [
    {
     "name": "stdout",
     "output_type": "stream",
     "text": [
      "The average drooling level of breeds with a long coat length is 1.483\n"
     ]
    }
   ],
   "source": [
    "# What is the average drooling level of breeds with a long coat length?\n",
    "df[df['Coat Length'] == 'Long']['Drooling Level'].mean()\n",
    "print('The average drooling level of breeds with a long coat length is', round(df[df['Coat Length'] == 'Long']['Drooling Level'].mean(), 3))"
   ]
  },
  {
   "cell_type": "code",
   "execution_count": 12,
   "id": "77585036",
   "metadata": {},
   "outputs": [
    {
     "name": "stdout",
     "output_type": "stream",
     "text": [
      "The barking level of Anatolian Shepherd Dogs is 3\n"
     ]
    }
   ],
   "source": [
    "# What is the barking level of Anatolian Shepherd Dogs?\n",
    "df[df['Breed'].str.startswith('Anatolian')]['Barking Level'].iloc[0]\n",
    "print('The barking level of Anatolian Shepherd Dogs is', df[df['Breed'].str.startswith('Anatolian')]['Barking Level'].iloc[0])"
   ]
  },
  {
   "cell_type": "code",
   "execution_count": 6,
   "id": "0a8c79ae",
   "metadata": {},
   "outputs": [
    {
     "name": "stdout",
     "output_type": "stream",
     "text": [
      "There are 27 breeds with a smooth coat type, a short coat length, and a playfulness level of 3.\n"
     ]
    }
   ],
   "source": [
    "# How many breeds have a smooth coat type, a short coat length, and a playfulness level of 3?\n",
    "df[(df['Coat Type'] == 'Smooth') & (df['Coat Length'] == 'Short') & (df['Playfulness Level'] == 3)].shape[0]\n",
    "print('There are', df[(df['Coat Type'] == 'Smooth') & (df['Coat Length'] == 'Short') & (df['Playfulness Level'] == 3)].shape[0], 'breeds with a smooth coat type, a short coat length, and a playfulness level of 3.')"
   ]
  },
  {
   "cell_type": "code",
   "execution_count": 13,
   "id": "dce44f5e",
   "metadata": {},
   "outputs": [
    {
     "data": {
      "text/plain": [
       "4    57.435897\n",
       "3    31.282051\n",
       "5    10.769231\n",
       "0     0.512821\n",
       "Name: Adaptability Level, dtype: float64"
      ]
     },
     "execution_count": 13,
     "metadata": {},
     "output_type": "execute_result"
    }
   ],
   "source": [
    "#  What percentage of breeds fall into each value of adaptability level?\n",
    "df['Adaptability Level'].value_counts(normalize=True) * 100"
   ]
  },
  {
   "cell_type": "code",
   "execution_count": 16,
   "id": "fb2494eb",
   "metadata": {},
   "outputs": [
    {
     "data": {
      "image/png": "[encoded data removed]",
      "text/plain": [
       "<Figure size 432x288 with 1 Axes>"
      ]
     },
     "metadata": {
      "needs_background": "light"
     },
     "output_type": "display_data"
    }
   ],
   "source": [
    "# make a visualization\n",
    "import matplotlib.pyplot as plt\n",
    "plt.bar(df['Adaptability Level'].value_counts().index, df['Adaptability Level'].value_counts().values)\n",
    "plt.xlabel('Adaptability Level')\n",
    "plt.ylabel('Percentage of Breeds')\n",
    "plt.title('Percentage of Breeds by Adaptability Level')\n",
    "plt.show()\n"
   ]
  },
  {
   "cell_type": "code",
   "execution_count": null,
   "id": "b3accc01",
   "metadata": {},
   "outputs": [],
   "source": []
  }
 ],
 "metadata": {
  "kernelspec": {
   "display_name": "Python 3",
   "language": "python",
   "name": "python3"
  },
  "language_info": {
   "codemirror_mode": {
    "name": "ipython",
    "version": 3
   },
   "file_extension": ".py",
   "mimetype": "text/x-python",
   "name": "python",
   "nbconvert_exporter": "python",
   "pygments_lexer": "ipython3",
   "version": "3.9.7"
  }
 },
 "nbformat": 4,
 "nbformat_minor": 5
}
