{
 "cells": [
  {
   "cell_type": "code",
   "execution_count": 1,
   "metadata": {},
   "outputs": [],
   "source": [
    "# imports\n",
    "from scipy import stats\n",
    "from sklearn.metrics import mean_squared_error, r2_score, explained_variance_score\n",
    "\n",
    "from sklearn.linear_model import LinearRegression\n",
    "from sklearn.feature_selection import f_regression \n",
    "from sklearn.metrics import mean_squared_error\n",
    "from math import sqrt\n",
    "import matplotlib.pyplot as plt\n",
    "import warnings\n",
    "warnings.filterwarnings('ignore')\n",
    "\n",
    "import pandas as pd\n",
    "import numpy as np\n",
    "import seaborn as sns"
   ]
  },
  {
   "cell_type": "markdown",
   "metadata": {},
   "source": [
    "1. Load the tips dataset from either pydataset or seaborn."
   ]
  },
  {
   "cell_type": "code",
   "execution_count": 2,
   "metadata": {},
   "outputs": [
    {
     "data": {
      "text/html": [
       "<div>\n",
       "<style scoped>\n",
       "    .dataframe tbody tr th:only-of-type {\n",
       "        vertical-align: middle;\n",
       "    }\n",
       "\n",
       "    .dataframe tbody tr th {\n",
       "        vertical-align: top;\n",
       "    }\n",
       "\n",
       "    .dataframe thead th {\n",
       "        text-align: right;\n",
       "    }\n",
       "</style>\n",
       "<table border=\"1\" class=\"dataframe\">\n",
       "  <thead>\n",
       "    <tr style=\"text-align: right;\">\n",
       "      <th></th>\n",
       "      <th>total_bill</th>\n",
       "      <th>tip</th>\n",
       "      <th>sex</th>\n",
       "      <th>smoker</th>\n",
       "      <th>day</th>\n",
       "      <th>time</th>\n",
       "      <th>size</th>\n",
       "    </tr>\n",
       "  </thead>\n",
       "  <tbody>\n",
       "    <tr>\n",
       "      <th>0</th>\n",
       "      <td>16.99</td>\n",
       "      <td>1.01</td>\n",
       "      <td>Female</td>\n",
       "      <td>No</td>\n",
       "      <td>Sun</td>\n",
       "      <td>Dinner</td>\n",
       "      <td>2</td>\n",
       "    </tr>\n",
       "    <tr>\n",
       "      <th>1</th>\n",
       "      <td>10.34</td>\n",
       "      <td>1.66</td>\n",
       "      <td>Male</td>\n",
       "      <td>No</td>\n",
       "      <td>Sun</td>\n",
       "      <td>Dinner</td>\n",
       "      <td>3</td>\n",
       "    </tr>\n",
       "    <tr>\n",
       "      <th>2</th>\n",
       "      <td>21.01</td>\n",
       "      <td>3.50</td>\n",
       "      <td>Male</td>\n",
       "      <td>No</td>\n",
       "      <td>Sun</td>\n",
       "      <td>Dinner</td>\n",
       "      <td>3</td>\n",
       "    </tr>\n",
       "    <tr>\n",
       "      <th>3</th>\n",
       "      <td>23.68</td>\n",
       "      <td>3.31</td>\n",
       "      <td>Male</td>\n",
       "      <td>No</td>\n",
       "      <td>Sun</td>\n",
       "      <td>Dinner</td>\n",
       "      <td>2</td>\n",
       "    </tr>\n",
       "    <tr>\n",
       "      <th>4</th>\n",
       "      <td>24.59</td>\n",
       "      <td>3.61</td>\n",
       "      <td>Female</td>\n",
       "      <td>No</td>\n",
       "      <td>Sun</td>\n",
       "      <td>Dinner</td>\n",
       "      <td>4</td>\n",
       "    </tr>\n",
       "  </tbody>\n",
       "</table>\n",
       "</div>"
      ],
      "text/plain": [
       "   total_bill   tip     sex smoker  day    time  size\n",
       "0       16.99  1.01  Female     No  Sun  Dinner     2\n",
       "1       10.34  1.66    Male     No  Sun  Dinner     3\n",
       "2       21.01  3.50    Male     No  Sun  Dinner     3\n",
       "3       23.68  3.31    Male     No  Sun  Dinner     2\n",
       "4       24.59  3.61  Female     No  Sun  Dinner     4"
      ]
     },
     "execution_count": 2,
     "metadata": {},
     "output_type": "execute_result"
    }
   ],
   "source": [
    "# Load the tips dataset\n",
    "df = sns.load_dataset(\"tips\")\n",
    "df.head()"
   ]
  },
  {
   "cell_type": "code",
   "execution_count": 32,
   "metadata": {},
   "outputs": [],
   "source": [
    "# split data into train, validation, and test sets\n",
    "import wrangle\n",
    "train, valid, test = wrangle.split_dataframe(df)\n",
    "# create a X and y for the training set"
   ]
  },
  {
   "cell_type": "code",
   "execution_count": 4,
   "metadata": {},
   "outputs": [
    {
     "data": {
      "image/png": "[encoded data removed]",
      "text/plain": [
       "<Figure size 432x288 with 1 Axes>"
      ]
     },
     "metadata": {
      "needs_background": "light"
     },
     "output_type": "display_data"
    }
   ],
   "source": [
    "# Fit a linear regression model (ordinary least squares) and compute yhat, predictions of tip using total_bill.\n",
    "plt.scatter(train['total_bill'], train['tip'])\n",
    "plt.xlabel('Total Bill')\n",
    "plt.ylabel('Tip')\n",
    "plt.title('Total Bill vs Tip')\n",
    "plt.show()"
   ]
  },
  {
   "cell_type": "markdown",
   "metadata": {},
   "source": [
    "2. Fit a linear regression model (ordinary least squares) and compute yhat, predictions of tip using total_bill."
   ]
  },
  {
   "cell_type": "code",
   "execution_count": 5,
   "metadata": {},
   "outputs": [
    {
     "data": {
      "text/html": [
       "<div>\n",
       "<style scoped>\n",
       "    .dataframe tbody tr th:only-of-type {\n",
       "        vertical-align: middle;\n",
       "    }\n",
       "\n",
       "    .dataframe tbody tr th {\n",
       "        vertical-align: top;\n",
       "    }\n",
       "\n",
       "    .dataframe thead th {\n",
       "        text-align: right;\n",
       "    }\n",
       "</style>\n",
       "<table border=\"1\" class=\"dataframe\">\n",
       "  <thead>\n",
       "    <tr style=\"text-align: right;\">\n",
       "      <th></th>\n",
       "      <th>total_bill</th>\n",
       "      <th>tip</th>\n",
       "    </tr>\n",
       "  </thead>\n",
       "  <tbody>\n",
       "    <tr>\n",
       "      <th>236</th>\n",
       "      <td>12.60</td>\n",
       "      <td>1.00</td>\n",
       "    </tr>\n",
       "    <tr>\n",
       "      <th>232</th>\n",
       "      <td>11.61</td>\n",
       "      <td>3.39</td>\n",
       "    </tr>\n",
       "    <tr>\n",
       "      <th>160</th>\n",
       "      <td>21.50</td>\n",
       "      <td>3.50</td>\n",
       "    </tr>\n",
       "    <tr>\n",
       "      <th>123</th>\n",
       "      <td>15.95</td>\n",
       "      <td>2.00</td>\n",
       "    </tr>\n",
       "    <tr>\n",
       "      <th>225</th>\n",
       "      <td>16.27</td>\n",
       "      <td>2.50</td>\n",
       "    </tr>\n",
       "  </tbody>\n",
       "</table>\n",
       "</div>"
      ],
      "text/plain": [
       "     total_bill   tip\n",
       "236       12.60  1.00\n",
       "232       11.61  3.39\n",
       "160       21.50  3.50\n",
       "123       15.95  2.00\n",
       "225       16.27  2.50"
      ]
     },
     "execution_count": 5,
     "metadata": {},
     "output_type": "execute_result"
    }
   ],
   "source": [
    "# create a new dataframe with only the columns we want to use for regression\n",
    "df_reg = df[['total_bill', 'tip']]\n",
    "df_reg.head()"
   ]
  },
  {
   "cell_type": "code",
   "execution_count": 6,
   "metadata": {},
   "outputs": [
    {
     "data": {
      "text/html": [
       "<div>\n",
       "<style scoped>\n",
       "    .dataframe tbody tr th:only-of-type {\n",
       "        vertical-align: middle;\n",
       "    }\n",
       "\n",
       "    .dataframe tbody tr th {\n",
       "        vertical-align: top;\n",
       "    }\n",
       "\n",
       "    .dataframe thead th {\n",
       "        text-align: right;\n",
       "    }\n",
       "</style>\n",
       "<table border=\"1\" class=\"dataframe\">\n",
       "  <thead>\n",
       "    <tr style=\"text-align: right;\">\n",
       "      <th></th>\n",
       "      <th>total_bill</th>\n",
       "      <th>tip</th>\n",
       "      <th>yhat_baseline</th>\n",
       "    </tr>\n",
       "  </thead>\n",
       "  <tbody>\n",
       "    <tr>\n",
       "      <th>236</th>\n",
       "      <td>12.60</td>\n",
       "      <td>1.00</td>\n",
       "      <td>2.967206</td>\n",
       "    </tr>\n",
       "    <tr>\n",
       "      <th>232</th>\n",
       "      <td>11.61</td>\n",
       "      <td>3.39</td>\n",
       "      <td>2.967206</td>\n",
       "    </tr>\n",
       "    <tr>\n",
       "      <th>160</th>\n",
       "      <td>21.50</td>\n",
       "      <td>3.50</td>\n",
       "      <td>2.967206</td>\n",
       "    </tr>\n",
       "  </tbody>\n",
       "</table>\n",
       "</div>"
      ],
      "text/plain": [
       "     total_bill   tip  yhat_baseline\n",
       "236       12.60  1.00       2.967206\n",
       "232       11.61  3.39       2.967206\n",
       "160       21.50  3.50       2.967206"
      ]
     },
     "execution_count": 6,
     "metadata": {},
     "output_type": "execute_result"
    }
   ],
   "source": [
    "# create a baseline mean prediction \n",
    "baseline = df_reg['tip'].mean()\n",
    "df_reg['yhat_baseline'] = baseline\n",
    "df_reg.head(3)\n",
    "# create a baseline median prediction\n",
    "# baseline_median = df_reg['tip'].median()\n",
    "# df_reg['yhat_baseline'] = baseline_median"
   ]
  },
  {
   "cell_type": "code",
   "execution_count": 7,
   "metadata": {},
   "outputs": [
    {
     "data": {
      "text/html": [
       "<div>\n",
       "<style scoped>\n",
       "    .dataframe tbody tr th:only-of-type {\n",
       "        vertical-align: middle;\n",
       "    }\n",
       "\n",
       "    .dataframe tbody tr th {\n",
       "        vertical-align: top;\n",
       "    }\n",
       "\n",
       "    .dataframe thead th {\n",
       "        text-align: right;\n",
       "    }\n",
       "</style>\n",
       "<table border=\"1\" class=\"dataframe\">\n",
       "  <thead>\n",
       "    <tr style=\"text-align: right;\">\n",
       "      <th></th>\n",
       "      <th>total_bill</th>\n",
       "      <th>tip</th>\n",
       "      <th>yhat_baseline</th>\n",
       "      <th>yhat</th>\n",
       "    </tr>\n",
       "  </thead>\n",
       "  <tbody>\n",
       "    <tr>\n",
       "      <th>236</th>\n",
       "      <td>12.60</td>\n",
       "      <td>1.00</td>\n",
       "      <td>2.967206</td>\n",
       "      <td>2.233042</td>\n",
       "    </tr>\n",
       "    <tr>\n",
       "      <th>232</th>\n",
       "      <td>11.61</td>\n",
       "      <td>3.39</td>\n",
       "      <td>2.967206</td>\n",
       "      <td>2.134854</td>\n",
       "    </tr>\n",
       "    <tr>\n",
       "      <th>160</th>\n",
       "      <td>21.50</td>\n",
       "      <td>3.50</td>\n",
       "      <td>2.967206</td>\n",
       "      <td>3.115751</td>\n",
       "    </tr>\n",
       "  </tbody>\n",
       "</table>\n",
       "</div>"
      ],
      "text/plain": [
       "     total_bill   tip  yhat_baseline      yhat\n",
       "236       12.60  1.00       2.967206  2.233042\n",
       "232       11.61  3.39       2.967206  2.134854\n",
       "160       21.50  3.50       2.967206  3.115751"
      ]
     },
     "execution_count": 7,
     "metadata": {},
     "output_type": "execute_result"
    }
   ],
   "source": [
    "# generate parameters, i.e. create model\n",
    "ols_model = LinearRegression().fit(df_reg[['total_bill']], df_reg.tip)\n",
    "\n",
    "# compute predictions and add to original dataframe\n",
    "df_reg['yhat'] = ols_model.predict(df_reg[['total_bill']])\n",
    "\n",
    "df_reg.head(3)\n"
   ]
  },
  {
   "cell_type": "markdown",
   "metadata": {},
   "source": [
    "3. Plot the residuals for the linear regression model that you made."
   ]
  },
  {
   "cell_type": "code",
   "execution_count": 8,
   "metadata": {},
   "outputs": [
    {
     "data": {
      "image/png": "[encoded data removed]",
      "text/plain": [
       "<Figure size 432x288 with 1 Axes>"
      ]
     },
     "metadata": {
      "needs_background": "light"
     },
     "output_type": "display_data"
    }
   ],
   "source": [
    "# Plot the residuals for the linear regression model that you made.\n",
    "plt.scatter(df_reg['total_bill'], df_reg['tip'])\n",
    "plt.axhline(y = baseline, color = 'red', linestyle = '--')\n",
    "plt.xlabel('total_bill')\n",
    "plt.ylabel('tip')\n",
    "plt.title('Total Bill vs Tip')\n",
    "plt.show()"
   ]
  },
  {
   "cell_type": "code",
   "execution_count": 9,
   "metadata": {},
   "outputs": [
    {
     "data": {
      "text/html": [
       "<div>\n",
       "<style scoped>\n",
       "    .dataframe tbody tr th:only-of-type {\n",
       "        vertical-align: middle;\n",
       "    }\n",
       "\n",
       "    .dataframe tbody tr th {\n",
       "        vertical-align: top;\n",
       "    }\n",
       "\n",
       "    .dataframe thead th {\n",
       "        text-align: right;\n",
       "    }\n",
       "</style>\n",
       "<table border=\"1\" class=\"dataframe\">\n",
       "  <thead>\n",
       "    <tr style=\"text-align: right;\">\n",
       "      <th></th>\n",
       "      <th>total_bill</th>\n",
       "      <th>tip</th>\n",
       "      <th>yhat_baseline</th>\n",
       "      <th>yhat</th>\n",
       "      <th>residuals</th>\n",
       "      <th>residual_baseline</th>\n",
       "    </tr>\n",
       "  </thead>\n",
       "  <tbody>\n",
       "    <tr>\n",
       "      <th>236</th>\n",
       "      <td>12.60</td>\n",
       "      <td>1.00</td>\n",
       "      <td>2.967206</td>\n",
       "      <td>2.233042</td>\n",
       "      <td>1.233042</td>\n",
       "      <td>1.967206</td>\n",
       "    </tr>\n",
       "    <tr>\n",
       "      <th>232</th>\n",
       "      <td>11.61</td>\n",
       "      <td>3.39</td>\n",
       "      <td>2.967206</td>\n",
       "      <td>2.134854</td>\n",
       "      <td>-1.255146</td>\n",
       "      <td>-0.422794</td>\n",
       "    </tr>\n",
       "    <tr>\n",
       "      <th>160</th>\n",
       "      <td>21.50</td>\n",
       "      <td>3.50</td>\n",
       "      <td>2.967206</td>\n",
       "      <td>3.115751</td>\n",
       "      <td>-0.384249</td>\n",
       "      <td>-0.532794</td>\n",
       "    </tr>\n",
       "  </tbody>\n",
       "</table>\n",
       "</div>"
      ],
      "text/plain": [
       "     total_bill   tip  yhat_baseline      yhat  residuals  residual_baseline\n",
       "236       12.60  1.00       2.967206  2.233042   1.233042           1.967206\n",
       "232       11.61  3.39       2.967206  2.134854  -1.255146          -0.422794\n",
       "160       21.50  3.50       2.967206  3.115751  -0.384249          -0.532794"
      ]
     },
     "execution_count": 9,
     "metadata": {},
     "output_type": "execute_result"
    }
   ],
   "source": [
    "# compute the residuals\n",
    "df_reg['residuals'] = df_reg['yhat'] - df_reg['tip']\n",
    "df_reg['residual_baseline'] = df_reg['yhat_baseline'] - df_reg['tip']\n",
    "df_reg.head(3)"
   ]
  },
  {
   "cell_type": "code",
   "execution_count": 10,
   "metadata": {},
   "outputs": [
    {
     "data": {
      "image/png": "[encoded data removed]",
      "text/plain": [
       "<Figure size 720x360 with 2 Axes>"
      ]
     },
     "metadata": {
      "needs_background": "light"
     },
     "output_type": "display_data"
    }
   ],
   "source": [
    "# create a scatter subplots of the residuals and the baseline residuals\n",
    "fig, ax = plt.subplots(1, 2, figsize = (10, 5))\n",
    "sns.scatterplot(x = 'total_bill', y = 'residuals', data = df_reg, ax = ax[0])\n",
    "ax[0].axhline(y = 0, color = 'red', linestyle = '--')\n",
    "ax[0].set_title('Residuals')\n",
    "ax[0].set_xlabel('Total Bill')\n",
    "ax[0].set_ylabel('Residuals')\n",
    "\n",
    "sns.scatterplot(x = 'total_bill', y = 'residual_baseline', data = df_reg, ax = ax[1])\n",
    "ax[1].axhline(y = 0, color = 'red', linestyle = '--')\n",
    "ax[1].set_title('Baseline Residuals')\n",
    "ax[1].set_xlabel('Total Bill')\n",
    "ax[1].set_ylabel('Residuals')\n",
    "plt.show()\n"
   ]
  },
  {
   "cell_type": "code",
   "execution_count": 11,
   "metadata": {},
   "outputs": [
    {
     "data": {
      "text/html": [
       "<div>\n",
       "<style scoped>\n",
       "    .dataframe tbody tr th:only-of-type {\n",
       "        vertical-align: middle;\n",
       "    }\n",
       "\n",
       "    .dataframe tbody tr th {\n",
       "        vertical-align: top;\n",
       "    }\n",
       "\n",
       "    .dataframe thead th {\n",
       "        text-align: right;\n",
       "    }\n",
       "</style>\n",
       "<table border=\"1\" class=\"dataframe\">\n",
       "  <thead>\n",
       "    <tr style=\"text-align: right;\">\n",
       "      <th></th>\n",
       "      <th>total_bill</th>\n",
       "      <th>tip</th>\n",
       "      <th>yhat_baseline</th>\n",
       "      <th>yhat</th>\n",
       "      <th>residuals</th>\n",
       "      <th>residual_baseline</th>\n",
       "      <th>residuals_sq</th>\n",
       "      <th>residual_baseline_sq</th>\n",
       "    </tr>\n",
       "  </thead>\n",
       "  <tbody>\n",
       "    <tr>\n",
       "      <th>236</th>\n",
       "      <td>12.60</td>\n",
       "      <td>1.00</td>\n",
       "      <td>2.967206</td>\n",
       "      <td>2.233042</td>\n",
       "      <td>1.233042</td>\n",
       "      <td>1.967206</td>\n",
       "      <td>1.520394</td>\n",
       "      <td>3.869899</td>\n",
       "    </tr>\n",
       "    <tr>\n",
       "      <th>232</th>\n",
       "      <td>11.61</td>\n",
       "      <td>3.39</td>\n",
       "      <td>2.967206</td>\n",
       "      <td>2.134854</td>\n",
       "      <td>-1.255146</td>\n",
       "      <td>-0.422794</td>\n",
       "      <td>1.575393</td>\n",
       "      <td>0.178755</td>\n",
       "    </tr>\n",
       "    <tr>\n",
       "      <th>160</th>\n",
       "      <td>21.50</td>\n",
       "      <td>3.50</td>\n",
       "      <td>2.967206</td>\n",
       "      <td>3.115751</td>\n",
       "      <td>-0.384249</td>\n",
       "      <td>-0.532794</td>\n",
       "      <td>0.147647</td>\n",
       "      <td>0.283870</td>\n",
       "    </tr>\n",
       "  </tbody>\n",
       "</table>\n",
       "</div>"
      ],
      "text/plain": [
       "     total_bill   tip  yhat_baseline      yhat  residuals  residual_baseline  \\\n",
       "236       12.60  1.00       2.967206  2.233042   1.233042           1.967206   \n",
       "232       11.61  3.39       2.967206  2.134854  -1.255146          -0.422794   \n",
       "160       21.50  3.50       2.967206  3.115751  -0.384249          -0.532794   \n",
       "\n",
       "     residuals_sq  residual_baseline_sq  \n",
       "236      1.520394              3.869899  \n",
       "232      1.575393              0.178755  \n",
       "160      0.147647              0.283870  "
      ]
     },
     "execution_count": 11,
     "metadata": {},
     "output_type": "execute_result"
    }
   ],
   "source": [
    "# square the residuals and the baseline residuals\n",
    "df_reg['residuals_sq'] = df_reg['residuals'] ** 2\n",
    "df_reg['residual_baseline_sq'] = df_reg['residual_baseline'] ** 2\n",
    "df_reg.head(3)"
   ]
  },
  {
   "cell_type": "markdown",
   "metadata": {},
   "source": [
    "\n",
    "4. Calculate the sum of squared errors, explained sum of squares, total sum of squares, mean squared error, and root mean squared error for your model."
   ]
  },
  {
   "cell_type": "code",
   "execution_count": 12,
   "metadata": {},
   "outputs": [],
   "source": [
    "# Calculate the sum of squared errors\n",
    "sse = df_reg['residuals_sq'].sum()\n",
    "# explained sum of squares\n",
    "ess = sum((df_reg.yhat - df_reg['tip'].mean())**2)\n",
    "# total sum of squares\n",
    "tss = ess + sse\n",
    "# mean squared error\n",
    "mse = sse / len(df_reg)\n",
    "# roor mean squared error\n",
    "rmse = sqrt(mse)"
   ]
  },
  {
   "cell_type": "markdown",
   "metadata": {},
   "source": [
    "5. Calculate the sum of squared errors, mean squared error, and root mean squared error for the baseline model"
   ]
  },
  {
   "cell_type": "code",
   "execution_count": 13,
   "metadata": {},
   "outputs": [],
   "source": [
    "# Calculate the sum of squared errors for the baseline prediction\n",
    "sse_baseline = sum(df_reg['residual_baseline_sq'])\n",
    "# mean squared error for baseline\n",
    "mse_baseline = sse_baseline/len(df_reg)\n",
    "# root mean squared error for the baseline model\n",
    "rmse_baseline = sqrt(mse_baseline)"
   ]
  },
  {
   "cell_type": "code",
   "execution_count": 14,
   "metadata": {},
   "outputs": [
    {
     "name": "stdout",
     "output_type": "stream",
     "text": [
      "SSE: 154.5209963922744\n",
      "SSE baseline: 261.6585382352941\n",
      "----------------------------\n",
      "MSE: 1.1361837970020177\n",
      "MSE baseline: 1.9239598399653977\n",
      "----------------------------\n",
      "RMSE: 1.0659192263028272\n",
      "RMSE baseline: 1.3870687942439617\n"
     ]
    }
   ],
   "source": [
    "# print the results and compare to the baseline\n",
    "print('SSE:', sse)\n",
    "print('SSE baseline:', sse_baseline)\n",
    "print('----------------------------')\n",
    "print('MSE:', mse)\n",
    "print('MSE baseline:', mse_baseline)\n",
    "print('----------------------------')\n",
    "print('RMSE:', rmse)\n",
    "print('RMSE baseline:', rmse_baseline)\n"
   ]
  },
  {
   "cell_type": "markdown",
   "metadata": {},
   "source": [
    "6. Write python code that compares the sum of squared errors for your model against the sum of squared errors for the baseline model and outputs whether or not your model performs better than the baseline model."
   ]
  },
  {
   "cell_type": "code",
   "execution_count": 15,
   "metadata": {},
   "outputs": [
    {
     "name": "stdout",
     "output_type": "stream",
     "text": [
      "The model appears to be better than the baseline\n"
     ]
    }
   ],
   "source": [
    "# create a functions that checks sse, mse, and rmse against the baseline\n",
    "def sse_check(sse, sse_baseline):\n",
    "    if sse < sse_baseline:\n",
    "        print('The model appears to be better than the baseline')\n",
    "    else:\n",
    "        print('The model does not appear to be better than the baseline')\n",
    "    return \n",
    "\n",
    "def mse_check(mse, mse_baseline):\n",
    "    if mse < mse_baseline:\n",
    "        print('The model is performing better than the baseline')\n",
    "    else:\n",
    "        print('The model is not performing better than the baseline')\n",
    "    return\n",
    "\n",
    "def rmse_check(rmse, rmse_baseline):\n",
    "\n",
    "    if rmse < rmse_baseline:\n",
    "        print('The model is better than having no model at all')\n",
    "    else:\n",
    "        print('Your better off by having no model at all')\n",
    "    return\n",
    "\n",
    "sse_check(sse, sse_baseline)"
   ]
  },
  {
   "cell_type": "markdown",
   "metadata": {},
   "source": [
    "7. What is the amount of variance explained in your model?"
   ]
  },
  {
   "cell_type": "code",
   "execution_count": 16,
   "metadata": {},
   "outputs": [
    {
     "name": "stdout",
     "output_type": "stream",
     "text": [
      "Percentage of variance explained: 40.9 %\n"
     ]
    }
   ],
   "source": [
    "# utilize r2_score to calculate the r-squared value\n",
    "r2 = r2_score(df_reg['tip'], df_reg['yhat'])\n",
    "print('Percentage of variance explained:', round(r2*100,1),\"%\")"
   ]
  },
  {
   "cell_type": "code",
   "execution_count": 17,
   "metadata": {},
   "outputs": [
    {
     "name": "stdout",
     "output_type": "stream",
     "text": [
      "Explained variance: 0.409\n"
     ]
    }
   ],
   "source": [
    "# utilize explained_variance_score to calculate the explained variance\n",
    "evs = explained_variance_score(df_reg['tip'], df_reg['yhat'])\n",
    "print('Explained variance:', round(evs,3))"
   ]
  },
  {
   "cell_type": "markdown",
   "metadata": {},
   "source": [
    "8. Is your model better than the baseline model?"
   ]
  },
  {
   "cell_type": "code",
   "execution_count": 18,
   "metadata": {},
   "outputs": [
    {
     "name": "stdout",
     "output_type": "stream",
     "text": [
      "The model you created is better than the baseline model.\n"
     ]
    }
   ],
   "source": [
    "# check if the model better than the baseline model\n",
    "def model_check():\n",
    "    if sse < sse_baseline and mse < mse_baseline and rmse < rmse_baseline:\n",
    "        print('The model you created is better than the baseline model.')\n",
    "    else:\n",
    "        print('The model you created is not better than the baseline model.')\n",
    "    return\n",
    "\n",
    "model_check()"
   ]
  },
  {
   "cell_type": "markdown",
   "metadata": {},
   "source": [
    "9. Create a file named evaluate.py that contains the following functions.\n",
    "\n",
    "plot_residuals(y, yhat): creates a residual plot\n",
    "\n",
    "regression_errors(y, yhat): returns the following values:\n",
    "- sum of squared errors (SSE)\n",
    "- explained sum of squares (ESS)\n",
    "- total sum of squares (TSS)\n",
    "- mean squared error (MSE)\n",
    "- root mean squared error (RMSE)\n",
    "\n",
    "baseline_mean_errors(y): computes the SSE, MSE, and RMSE for the baseline model\n",
    "\n",
    "better_than_baseline(y, yhat): returns true if your model performs better than the baseline, otherwise false"
   ]
  },
  {
   "cell_type": "code",
   "execution_count": 19,
   "metadata": {},
   "outputs": [
    {
     "data": {
      "text/html": [
       "<div>\n",
       "<style scoped>\n",
       "    .dataframe tbody tr th:only-of-type {\n",
       "        vertical-align: middle;\n",
       "    }\n",
       "\n",
       "    .dataframe tbody tr th {\n",
       "        vertical-align: top;\n",
       "    }\n",
       "\n",
       "    .dataframe thead th {\n",
       "        text-align: right;\n",
       "    }\n",
       "</style>\n",
       "<table border=\"1\" class=\"dataframe\">\n",
       "  <thead>\n",
       "    <tr style=\"text-align: right;\">\n",
       "      <th></th>\n",
       "      <th>total_bill</th>\n",
       "      <th>tip</th>\n",
       "      <th>sex</th>\n",
       "      <th>smoker</th>\n",
       "      <th>day</th>\n",
       "      <th>time</th>\n",
       "      <th>size</th>\n",
       "      <th>yhat_baseline</th>\n",
       "      <th>yhat</th>\n",
       "      <th>residuals</th>\n",
       "      <th>residual_baseline</th>\n",
       "    </tr>\n",
       "  </thead>\n",
       "  <tbody>\n",
       "    <tr>\n",
       "      <th>236</th>\n",
       "      <td>12.60</td>\n",
       "      <td>1.00</td>\n",
       "      <td>Male</td>\n",
       "      <td>Yes</td>\n",
       "      <td>Sat</td>\n",
       "      <td>Dinner</td>\n",
       "      <td>2</td>\n",
       "      <td>2.967206</td>\n",
       "      <td>2.233042</td>\n",
       "      <td>1.233042</td>\n",
       "      <td>1.967206</td>\n",
       "    </tr>\n",
       "    <tr>\n",
       "      <th>232</th>\n",
       "      <td>11.61</td>\n",
       "      <td>3.39</td>\n",
       "      <td>Male</td>\n",
       "      <td>No</td>\n",
       "      <td>Sat</td>\n",
       "      <td>Dinner</td>\n",
       "      <td>2</td>\n",
       "      <td>2.967206</td>\n",
       "      <td>2.134854</td>\n",
       "      <td>-1.255146</td>\n",
       "      <td>-0.422794</td>\n",
       "    </tr>\n",
       "    <tr>\n",
       "      <th>160</th>\n",
       "      <td>21.50</td>\n",
       "      <td>3.50</td>\n",
       "      <td>Male</td>\n",
       "      <td>No</td>\n",
       "      <td>Sun</td>\n",
       "      <td>Dinner</td>\n",
       "      <td>4</td>\n",
       "      <td>2.967206</td>\n",
       "      <td>3.115751</td>\n",
       "      <td>-0.384249</td>\n",
       "      <td>-0.532794</td>\n",
       "    </tr>\n",
       "    <tr>\n",
       "      <th>123</th>\n",
       "      <td>15.95</td>\n",
       "      <td>2.00</td>\n",
       "      <td>Male</td>\n",
       "      <td>No</td>\n",
       "      <td>Thur</td>\n",
       "      <td>Lunch</td>\n",
       "      <td>2</td>\n",
       "      <td>2.967206</td>\n",
       "      <td>2.565298</td>\n",
       "      <td>0.565298</td>\n",
       "      <td>0.967206</td>\n",
       "    </tr>\n",
       "    <tr>\n",
       "      <th>225</th>\n",
       "      <td>16.27</td>\n",
       "      <td>2.50</td>\n",
       "      <td>Female</td>\n",
       "      <td>Yes</td>\n",
       "      <td>Fri</td>\n",
       "      <td>Lunch</td>\n",
       "      <td>2</td>\n",
       "      <td>2.967206</td>\n",
       "      <td>2.597036</td>\n",
       "      <td>0.097036</td>\n",
       "      <td>0.467206</td>\n",
       "    </tr>\n",
       "    <tr>\n",
       "      <th>...</th>\n",
       "      <td>...</td>\n",
       "      <td>...</td>\n",
       "      <td>...</td>\n",
       "      <td>...</td>\n",
       "      <td>...</td>\n",
       "      <td>...</td>\n",
       "      <td>...</td>\n",
       "      <td>...</td>\n",
       "      <td>...</td>\n",
       "      <td>...</td>\n",
       "      <td>...</td>\n",
       "    </tr>\n",
       "    <tr>\n",
       "      <th>224</th>\n",
       "      <td>13.42</td>\n",
       "      <td>1.58</td>\n",
       "      <td>Male</td>\n",
       "      <td>Yes</td>\n",
       "      <td>Fri</td>\n",
       "      <td>Lunch</td>\n",
       "      <td>2</td>\n",
       "      <td>2.967206</td>\n",
       "      <td>2.314371</td>\n",
       "      <td>0.734371</td>\n",
       "      <td>1.387206</td>\n",
       "    </tr>\n",
       "    <tr>\n",
       "      <th>130</th>\n",
       "      <td>19.08</td>\n",
       "      <td>1.50</td>\n",
       "      <td>Male</td>\n",
       "      <td>No</td>\n",
       "      <td>Thur</td>\n",
       "      <td>Lunch</td>\n",
       "      <td>2</td>\n",
       "      <td>2.967206</td>\n",
       "      <td>2.875734</td>\n",
       "      <td>1.375734</td>\n",
       "      <td>1.467206</td>\n",
       "    </tr>\n",
       "    <tr>\n",
       "      <th>181</th>\n",
       "      <td>23.33</td>\n",
       "      <td>5.65</td>\n",
       "      <td>Male</td>\n",
       "      <td>Yes</td>\n",
       "      <td>Sun</td>\n",
       "      <td>Dinner</td>\n",
       "      <td>2</td>\n",
       "      <td>2.967206</td>\n",
       "      <td>3.297252</td>\n",
       "      <td>-2.352748</td>\n",
       "      <td>-2.682794</td>\n",
       "    </tr>\n",
       "    <tr>\n",
       "      <th>136</th>\n",
       "      <td>10.33</td>\n",
       "      <td>2.00</td>\n",
       "      <td>Female</td>\n",
       "      <td>No</td>\n",
       "      <td>Thur</td>\n",
       "      <td>Lunch</td>\n",
       "      <td>2</td>\n",
       "      <td>2.967206</td>\n",
       "      <td>2.007902</td>\n",
       "      <td>0.007902</td>\n",
       "      <td>0.967206</td>\n",
       "    </tr>\n",
       "    <tr>\n",
       "      <th>50</th>\n",
       "      <td>12.54</td>\n",
       "      <td>2.50</td>\n",
       "      <td>Male</td>\n",
       "      <td>No</td>\n",
       "      <td>Sun</td>\n",
       "      <td>Dinner</td>\n",
       "      <td>2</td>\n",
       "      <td>2.967206</td>\n",
       "      <td>2.227092</td>\n",
       "      <td>-0.272908</td>\n",
       "      <td>0.467206</td>\n",
       "    </tr>\n",
       "  </tbody>\n",
       "</table>\n",
       "<p>136 rows × 11 columns</p>\n",
       "</div>"
      ],
      "text/plain": [
       "     total_bill   tip     sex smoker   day    time  size  yhat_baseline  \\\n",
       "236       12.60  1.00    Male    Yes   Sat  Dinner     2       2.967206   \n",
       "232       11.61  3.39    Male     No   Sat  Dinner     2       2.967206   \n",
       "160       21.50  3.50    Male     No   Sun  Dinner     4       2.967206   \n",
       "123       15.95  2.00    Male     No  Thur   Lunch     2       2.967206   \n",
       "225       16.27  2.50  Female    Yes   Fri   Lunch     2       2.967206   \n",
       "..          ...   ...     ...    ...   ...     ...   ...            ...   \n",
       "224       13.42  1.58    Male    Yes   Fri   Lunch     2       2.967206   \n",
       "130       19.08  1.50    Male     No  Thur   Lunch     2       2.967206   \n",
       "181       23.33  5.65    Male    Yes   Sun  Dinner     2       2.967206   \n",
       "136       10.33  2.00  Female     No  Thur   Lunch     2       2.967206   \n",
       "50        12.54  2.50    Male     No   Sun  Dinner     2       2.967206   \n",
       "\n",
       "         yhat  residuals  residual_baseline  \n",
       "236  2.233042   1.233042           1.967206  \n",
       "232  2.134854  -1.255146          -0.422794  \n",
       "160  3.115751  -0.384249          -0.532794  \n",
       "123  2.565298   0.565298           0.967206  \n",
       "225  2.597036   0.097036           0.467206  \n",
       "..        ...        ...                ...  \n",
       "224  2.314371   0.734371           1.387206  \n",
       "130  2.875734   1.375734           1.467206  \n",
       "181  3.297252  -2.352748          -2.682794  \n",
       "136  2.007902   0.007902           0.967206  \n",
       "50   2.227092  -0.272908           0.467206  \n",
       "\n",
       "[136 rows x 11 columns]"
      ]
     },
     "execution_count": 19,
     "metadata": {},
     "output_type": "execute_result"
    }
   ],
   "source": [
    "# create a function that computes residuals\n",
    "def residuals(df, y, X):\n",
    "    ''' Plug in the dataframe, target(column), and X(column) to compute the residuals. '''\n",
    "    baseline = y.mean()\n",
    "    df['yhat_baseline'] = baseline\n",
    "\n",
    "    ols_model = LinearRegression().fit(X, y)\n",
    "    df['yhat'] = ols_model.predict(X)\n",
    "    \n",
    "    df['residuals'] = df['yhat'] - y\n",
    "    df['residual_baseline'] = df['yhat_baseline'] - y\n",
    "    return df\n",
    "residuals(df, df['tip'], df[['total_bill']])"
   ]
  },
  {
   "cell_type": "code",
   "execution_count": 20,
   "metadata": {},
   "outputs": [
    {
     "data": {
      "image/png": "[encoded data removed]",
      "text/plain": [
       "<Figure size 720x360 with 2 Axes>"
      ]
     },
     "metadata": {
      "needs_background": "light"
     },
     "output_type": "display_data"
    }
   ],
   "source": [
    "# create a function called plot_residuals(y, yhat) that creates a residual plot\n",
    "def plot_residuals(df, y, yhat, x):\n",
    "\n",
    "    # create a residual column if it doesn't already exist\n",
    "    if 'residuals' not in df.columns:\n",
    "        df['residuals'] = y - yhat\n",
    "    else:\n",
    "        pass\n",
    "    # create a residuals_baseline column if it doesn't already exist\n",
    "    if 'residual_baseline' not in df.columns:\n",
    "        df['residual_baseline'] = y - df['yhat_baseline']\n",
    "    else:\n",
    "        pass\n",
    "    fig, ax = plt.subplots(1, 2, figsize = (10, 5))\n",
    "    sns.scatterplot(x, y = 'residuals', data = df_reg, ax = ax[0])\n",
    "    ax[0].axhline(y = 0, color = 'red', linestyle = '--')\n",
    "    ax[0].set_title('Residuals')\n",
    "    ax[0].set_xlabel(x)\n",
    "    ax[0].set_ylabel('Residuals')\n",
    "    \n",
    "    sns.scatterplot(x, y = 'residual_baseline', data = df_reg, ax = ax[1])\n",
    "    ax[1].axhline(y = 0, color = 'red', linestyle = '--')\n",
    "    ax[1].set_title('Baseline Residuals')\n",
    "    ax[1].set_xlabel(x)\n",
    "    ax[1].set_ylabel('Residuals')\n",
    "    return plt.show()\n",
    "plot_residuals(df_reg, df_reg['tip'], df_reg['yhat'], 'total_bill')"
   ]
  },
  {
   "cell_type": "code",
   "execution_count": 21,
   "metadata": {},
   "outputs": [
    {
     "name": "stdout",
     "output_type": "stream",
     "text": [
      "SSE: 154.521\n",
      "ESS: 107.138\n",
      "TSS: 261.659\n",
      "MSE: 1.136\n",
      "RMSE: 1.066\n",
      "Explained Variance: 40.95 %\n"
     ]
    }
   ],
   "source": [
    "# create a function called regression_errors(y, yhat) that returns the following values: sse, ess, tss, mse, rmse\n",
    "def regression_errors(df, y, yhat):\n",
    "    sse = sum((y - yhat) ** 2)\n",
    "    ess = sum((yhat - df['yhat_baseline']) ** 2)\n",
    "    tss = ess + sse\n",
    "    mse = sse / len(df)\n",
    "    rmse = sqrt(mse)\n",
    "    # compute explained variance\n",
    "    r2 = ess/tss\n",
    "    print('SSE:', round(sse,3))\n",
    "    print('ESS:', round(ess,3))\n",
    "    print('TSS:', round(tss,3))\n",
    "    print('MSE:', round(mse,3))\n",
    "    print('RMSE:', round(rmse,3))\n",
    "    print('Explained Variance:', round(r2*100,2),'%')\n",
    "    return \n",
    "regression_errors(df, df_reg['tip'], df_reg['yhat'])"
   ]
  },
  {
   "cell_type": "code",
   "execution_count": 22,
   "metadata": {},
   "outputs": [
    {
     "name": "stdout",
     "output_type": "stream",
     "text": [
      "SSE baseline: 261.659\n",
      "MSE baseline: 1.924\n",
      "RMSE baseline: 1.387\n"
     ]
    }
   ],
   "source": [
    "# create a function named baseline_mean_errors(y) that computes the SSE, MSE, and RMSE for the baseline model\n",
    "def baseline_mean_errors(df, y):\n",
    "    # create a residual baseline sq column if it doesn't already exist\n",
    "    if 'residual_baseline_sq' not in df.columns:\n",
    "        df['residual_baseline_sq'] = (y - df['yhat_baseline']) ** 2\n",
    "    else:\n",
    "        pass\n",
    "    sse_baseline = sum(df['residual_baseline_sq'])\n",
    "    mse_baseline = sse_baseline/len(df)\n",
    "    rmse_baseline = sqrt(mse_baseline)\n",
    "    \n",
    "    print('SSE baseline:', round(sse_baseline,3))\n",
    "    print('MSE baseline:', round(mse_baseline,3))\n",
    "    print('RMSE baseline:', round(rmse_baseline,3))\n",
    "    return\n",
    "baseline_mean_errors(df_reg, df_reg['tip'])"
   ]
  },
  {
   "cell_type": "code",
   "execution_count": 23,
   "metadata": {},
   "outputs": [
    {
     "name": "stdout",
     "output_type": "stream",
     "text": [
      "The model you created is better than the baseline model.\n"
     ]
    }
   ],
   "source": [
    "# create a function named better_than_baseline(y, yhat) that returns true if your model performs better than the baseline, otherwise false\n",
    "def better_than_baseline(df, y, yhat):\n",
    "    if sse < sse_baseline and mse < mse_baseline and rmse < rmse_baseline:\n",
    "        print('The model you created is better than the baseline model.')\n",
    "    else:\n",
    "        print('The model you created is not better than the baseline model.')\n",
    "    return\n",
    "better_than_baseline(df_reg, df_reg['tip'], df_reg['yhat'])"
   ]
  },
  {
   "cell_type": "markdown",
   "metadata": {},
   "source": [
    "10. Load the mpg dataset and fit a model that predicts highway mileage based on engine displacement. Take a look at all the regression evaluation metrics, and determine whether this model is better than the baseline model. Use the functions from your evaluate.py to help accomplish this."
   ]
  },
  {
   "cell_type": "code",
   "execution_count": 24,
   "metadata": {},
   "outputs": [
    {
     "data": {
      "text/html": [
       "<div>\n",
       "<style scoped>\n",
       "    .dataframe tbody tr th:only-of-type {\n",
       "        vertical-align: middle;\n",
       "    }\n",
       "\n",
       "    .dataframe tbody tr th {\n",
       "        vertical-align: top;\n",
       "    }\n",
       "\n",
       "    .dataframe thead th {\n",
       "        text-align: right;\n",
       "    }\n",
       "</style>\n",
       "<table border=\"1\" class=\"dataframe\">\n",
       "  <thead>\n",
       "    <tr style=\"text-align: right;\">\n",
       "      <th></th>\n",
       "      <th>mpg</th>\n",
       "      <th>cylinders</th>\n",
       "      <th>displacement</th>\n",
       "      <th>horsepower</th>\n",
       "      <th>weight</th>\n",
       "      <th>acceleration</th>\n",
       "      <th>model_year</th>\n",
       "      <th>origin</th>\n",
       "      <th>name</th>\n",
       "    </tr>\n",
       "  </thead>\n",
       "  <tbody>\n",
       "    <tr>\n",
       "      <th>0</th>\n",
       "      <td>18.0</td>\n",
       "      <td>8</td>\n",
       "      <td>307.0</td>\n",
       "      <td>130.0</td>\n",
       "      <td>3504</td>\n",
       "      <td>12.0</td>\n",
       "      <td>70</td>\n",
       "      <td>usa</td>\n",
       "      <td>chevrolet chevelle malibu</td>\n",
       "    </tr>\n",
       "    <tr>\n",
       "      <th>1</th>\n",
       "      <td>15.0</td>\n",
       "      <td>8</td>\n",
       "      <td>350.0</td>\n",
       "      <td>165.0</td>\n",
       "      <td>3693</td>\n",
       "      <td>11.5</td>\n",
       "      <td>70</td>\n",
       "      <td>usa</td>\n",
       "      <td>buick skylark 320</td>\n",
       "    </tr>\n",
       "    <tr>\n",
       "      <th>2</th>\n",
       "      <td>18.0</td>\n",
       "      <td>8</td>\n",
       "      <td>318.0</td>\n",
       "      <td>150.0</td>\n",
       "      <td>3436</td>\n",
       "      <td>11.0</td>\n",
       "      <td>70</td>\n",
       "      <td>usa</td>\n",
       "      <td>plymouth satellite</td>\n",
       "    </tr>\n",
       "    <tr>\n",
       "      <th>3</th>\n",
       "      <td>16.0</td>\n",
       "      <td>8</td>\n",
       "      <td>304.0</td>\n",
       "      <td>150.0</td>\n",
       "      <td>3433</td>\n",
       "      <td>12.0</td>\n",
       "      <td>70</td>\n",
       "      <td>usa</td>\n",
       "      <td>amc rebel sst</td>\n",
       "    </tr>\n",
       "    <tr>\n",
       "      <th>4</th>\n",
       "      <td>17.0</td>\n",
       "      <td>8</td>\n",
       "      <td>302.0</td>\n",
       "      <td>140.0</td>\n",
       "      <td>3449</td>\n",
       "      <td>10.5</td>\n",
       "      <td>70</td>\n",
       "      <td>usa</td>\n",
       "      <td>ford torino</td>\n",
       "    </tr>\n",
       "  </tbody>\n",
       "</table>\n",
       "</div>"
      ],
      "text/plain": [
       "    mpg  cylinders  displacement  horsepower  weight  acceleration  \\\n",
       "0  18.0          8         307.0       130.0    3504          12.0   \n",
       "1  15.0          8         350.0       165.0    3693          11.5   \n",
       "2  18.0          8         318.0       150.0    3436          11.0   \n",
       "3  16.0          8         304.0       150.0    3433          12.0   \n",
       "4  17.0          8         302.0       140.0    3449          10.5   \n",
       "\n",
       "   model_year origin                       name  \n",
       "0          70    usa  chevrolet chevelle malibu  \n",
       "1          70    usa          buick skylark 320  \n",
       "2          70    usa         plymouth satellite  \n",
       "3          70    usa              amc rebel sst  \n",
       "4          70    usa                ford torino  "
      ]
     },
     "execution_count": 24,
     "metadata": {},
     "output_type": "execute_result"
    }
   ],
   "source": [
    "# load in mpg data\n",
    "mpg = sns.load_dataset('mpg')\n",
    "mpg.head()"
   ]
  },
  {
   "cell_type": "code",
   "execution_count": 25,
   "metadata": {},
   "outputs": [],
   "source": [
    "import evaluate\n",
    "\n",
    "evaluate.residuals(mpg, mpg['mpg'], mpg[['displacement']])\n"
   ]
  },
  {
   "cell_type": "code",
   "execution_count": 26,
   "metadata": {},
   "outputs": [
    {
     "data": {
      "image/png": "[encoded data removed]",
      "text/plain": [
       "<Figure size 720x360 with 2 Axes>"
      ]
     },
     "metadata": {
      "needs_background": "light"
     },
     "output_type": "display_data"
    }
   ],
   "source": [
    "evaluate.plot_residuals(mpg, mpg['mpg'], mpg['yhat'], 'displacement')"
   ]
  },
  {
   "cell_type": "code",
   "execution_count": 27,
   "metadata": {},
   "outputs": [
    {
     "name": "stdout",
     "output_type": "stream",
     "text": [
      "SSE: 8567.412\n",
      "ESS: 15685.164\n",
      "TSS: 24252.575\n",
      "MSE: 21.526\n",
      "RMSE: 4.64\n",
      "Explained Variance: 64.67 %\n"
     ]
    }
   ],
   "source": [
    "evaluate.regression_errors(mpg, mpg['mpg'], mpg['yhat'])"
   ]
  },
  {
   "cell_type": "code",
   "execution_count": 28,
   "metadata": {},
   "outputs": [
    {
     "name": "stdout",
     "output_type": "stream",
     "text": [
      "SSE baseline: 24252.575\n",
      "MSE baseline: 60.936\n",
      "RMSE baseline: 7.806\n"
     ]
    }
   ],
   "source": [
    "evaluate.baseline_mean_errors(mpg, mpg['mpg'])"
   ]
  },
  {
   "cell_type": "code",
   "execution_count": 29,
   "metadata": {},
   "outputs": [
    {
     "name": "stdout",
     "output_type": "stream",
     "text": [
      "The model you created is better than the baseline model.\n"
     ]
    }
   ],
   "source": [
    "evaluate.better_than_baseline(mpg, mpg['mpg'], mpg['yhat'])"
   ]
  },
  {
   "cell_type": "code",
   "execution_count": null,
   "metadata": {},
   "outputs": [],
   "source": []
  }
 ],
 "metadata": {
  "interpreter": {
   "hash": "3067ead486e059ec00ffe7555bdb889e6e264a24dc711bf108106cc7baee8d5d"
  },
  "kernelspec": {
   "display_name": "Python 3.9.7 ('base')",
   "language": "python",
   "name": "python3"
  },
  "language_info": {
   "codemirror_mode": {
    "name": "ipython",
    "version": 3
   },
   "file_extension": ".py",
   "mimetype": "text/x-python",
   "name": "python",
   "nbconvert_exporter": "python",
   "pygments_lexer": "ipython3",
   "version": "3.9.7"
  },
  "orig_nbformat": 4
 },
 "nbformat": 4,
 "nbformat_minor": 2
}
