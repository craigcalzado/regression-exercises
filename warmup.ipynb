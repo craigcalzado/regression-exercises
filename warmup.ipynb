{
 "cells": [
  {
   "cell_type": "markdown",
   "metadata": {},
   "source": [
    "# Dataframe Manipulation Warmup"
   ]
  },
  {
   "cell_type": "code",
   "execution_count": 2,
   "metadata": {},
   "outputs": [],
   "source": [
    "import numpy as np\n",
    "import pandas as pd\n",
    "\n",
    "np.random.seed(406)\n",
    "\n",
    "n = 5000\n",
    "df = pd.DataFrame({\n",
    "    'favorite_animal': np.random.choice(['cat', 'dog', 'frog', 'lemur', 'panda'], n),\n",
    "    'favorite_vegetable': np.random.choice(['brussel sprouts', 'potato', 'squash'], n),\n",
    "    'favorite_fruit': np.random.choice(['banana', 'apple', 'blueberries'], n),\n",
    "    'wears_glasses': np.random.choice(['yes', 'no'], n),\n",
    "    'netflix_consumption': np.random.normal(10, 2, n),\n",
    "    'open_browser_tabs': np.random.randint(2, 90, n),\n",
    "})"
   ]
  },
  {
   "cell_type": "markdown",
   "metadata": {},
   "source": [
    "1. What is the highest amount of netflix consumption? `17.535`\n",
    "2. How many people wear glasses? What percentage of people is this? `2555`, `.511`\n",
    "3. How many people's favorite animal is a dog? `1002`\n",
    "4. What is the most common favorite animal? `lemur`\n",
    "5. What is the average netflix consumption for people that prefer brussel sprouts? `10.008`\n",
    "6. What is the most common favorite fruit for people who wear glasses and have more than 40 open browser tabs? `blueberries`"
   ]
  },
  {
   "cell_type": "code",
   "execution_count": 34,
   "metadata": {},
   "outputs": [
    {
     "name": "stdout",
     "output_type": "stream",
     "text": [
      "<class 'pandas.core.frame.DataFrame'>\n",
      "RangeIndex: 5000 entries, 0 to 4999\n",
      "Data columns (total 6 columns):\n",
      " #   Column               Non-Null Count  Dtype  \n",
      "---  ------               --------------  -----  \n",
      " 0   favorite_animal      5000 non-null   object \n",
      " 1   favorite_vegetable   5000 non-null   object \n",
      " 2   favorite_fruit       5000 non-null   object \n",
      " 3   wears_glasses        5000 non-null   object \n",
      " 4   netflix_consumption  5000 non-null   float64\n",
      " 5   open_browser_tabs    5000 non-null   int64  \n",
      "dtypes: float64(1), int64(1), object(4)\n",
      "memory usage: 234.5+ KB\n"
     ]
    },
    {
     "data": {
      "text/html": [
       "<div>\n",
       "<style scoped>\n",
       "    .dataframe tbody tr th:only-of-type {\n",
       "        vertical-align: middle;\n",
       "    }\n",
       "\n",
       "    .dataframe tbody tr th {\n",
       "        vertical-align: top;\n",
       "    }\n",
       "\n",
       "    .dataframe thead th {\n",
       "        text-align: right;\n",
       "    }\n",
       "</style>\n",
       "<table border=\"1\" class=\"dataframe\">\n",
       "  <thead>\n",
       "    <tr style=\"text-align: right;\">\n",
       "      <th></th>\n",
       "      <th>favorite_animal</th>\n",
       "      <th>favorite_vegetable</th>\n",
       "      <th>favorite_fruit</th>\n",
       "      <th>wears_glasses</th>\n",
       "      <th>netflix_consumption</th>\n",
       "      <th>open_browser_tabs</th>\n",
       "    </tr>\n",
       "  </thead>\n",
       "  <tbody>\n",
       "    <tr>\n",
       "      <th>0</th>\n",
       "      <td>lemur</td>\n",
       "      <td>potato</td>\n",
       "      <td>apple</td>\n",
       "      <td>yes</td>\n",
       "      <td>8.313351</td>\n",
       "      <td>44</td>\n",
       "    </tr>\n",
       "    <tr>\n",
       "      <th>1</th>\n",
       "      <td>panda</td>\n",
       "      <td>potato</td>\n",
       "      <td>apple</td>\n",
       "      <td>yes</td>\n",
       "      <td>11.801073</td>\n",
       "      <td>10</td>\n",
       "    </tr>\n",
       "    <tr>\n",
       "      <th>2</th>\n",
       "      <td>cat</td>\n",
       "      <td>squash</td>\n",
       "      <td>blueberries</td>\n",
       "      <td>yes</td>\n",
       "      <td>10.105141</td>\n",
       "      <td>35</td>\n",
       "    </tr>\n",
       "    <tr>\n",
       "      <th>3</th>\n",
       "      <td>lemur</td>\n",
       "      <td>squash</td>\n",
       "      <td>apple</td>\n",
       "      <td>no</td>\n",
       "      <td>11.024605</td>\n",
       "      <td>70</td>\n",
       "    </tr>\n",
       "    <tr>\n",
       "      <th>4</th>\n",
       "      <td>dog</td>\n",
       "      <td>brussel sprouts</td>\n",
       "      <td>apple</td>\n",
       "      <td>yes</td>\n",
       "      <td>6.732698</td>\n",
       "      <td>73</td>\n",
       "    </tr>\n",
       "    <tr>\n",
       "      <th>...</th>\n",
       "      <td>...</td>\n",
       "      <td>...</td>\n",
       "      <td>...</td>\n",
       "      <td>...</td>\n",
       "      <td>...</td>\n",
       "      <td>...</td>\n",
       "    </tr>\n",
       "    <tr>\n",
       "      <th>4995</th>\n",
       "      <td>frog</td>\n",
       "      <td>potato</td>\n",
       "      <td>blueberries</td>\n",
       "      <td>yes</td>\n",
       "      <td>9.992337</td>\n",
       "      <td>59</td>\n",
       "    </tr>\n",
       "    <tr>\n",
       "      <th>4996</th>\n",
       "      <td>frog</td>\n",
       "      <td>potato</td>\n",
       "      <td>apple</td>\n",
       "      <td>yes</td>\n",
       "      <td>8.916902</td>\n",
       "      <td>46</td>\n",
       "    </tr>\n",
       "    <tr>\n",
       "      <th>4997</th>\n",
       "      <td>lemur</td>\n",
       "      <td>squash</td>\n",
       "      <td>banana</td>\n",
       "      <td>no</td>\n",
       "      <td>7.317019</td>\n",
       "      <td>70</td>\n",
       "    </tr>\n",
       "    <tr>\n",
       "      <th>4998</th>\n",
       "      <td>lemur</td>\n",
       "      <td>squash</td>\n",
       "      <td>blueberries</td>\n",
       "      <td>yes</td>\n",
       "      <td>12.720892</td>\n",
       "      <td>50</td>\n",
       "    </tr>\n",
       "    <tr>\n",
       "      <th>4999</th>\n",
       "      <td>dog</td>\n",
       "      <td>potato</td>\n",
       "      <td>banana</td>\n",
       "      <td>yes</td>\n",
       "      <td>12.890119</td>\n",
       "      <td>53</td>\n",
       "    </tr>\n",
       "  </tbody>\n",
       "</table>\n",
       "<p>5000 rows × 6 columns</p>\n",
       "</div>"
      ],
      "text/plain": [
       "     favorite_animal favorite_vegetable favorite_fruit wears_glasses  \\\n",
       "0              lemur             potato          apple           yes   \n",
       "1              panda             potato          apple           yes   \n",
       "2                cat             squash    blueberries           yes   \n",
       "3              lemur             squash          apple            no   \n",
       "4                dog    brussel sprouts          apple           yes   \n",
       "...              ...                ...            ...           ...   \n",
       "4995            frog             potato    blueberries           yes   \n",
       "4996            frog             potato          apple           yes   \n",
       "4997           lemur             squash         banana            no   \n",
       "4998           lemur             squash    blueberries           yes   \n",
       "4999             dog             potato         banana           yes   \n",
       "\n",
       "      netflix_consumption  open_browser_tabs  \n",
       "0                8.313351                 44  \n",
       "1               11.801073                 10  \n",
       "2               10.105141                 35  \n",
       "3               11.024605                 70  \n",
       "4                6.732698                 73  \n",
       "...                   ...                ...  \n",
       "4995             9.992337                 59  \n",
       "4996             8.916902                 46  \n",
       "4997             7.317019                 70  \n",
       "4998            12.720892                 50  \n",
       "4999            12.890119                 53  \n",
       "\n",
       "[5000 rows x 6 columns]"
      ]
     },
     "execution_count": 34,
     "metadata": {},
     "output_type": "execute_result"
    }
   ],
   "source": [
    "df.describe()\n",
    "df.info()\n",
    "df"
   ]
  },
  {
   "cell_type": "code",
   "execution_count": 35,
   "metadata": {},
   "outputs": [
    {
     "name": "stdout",
     "output_type": "stream",
     "text": [
      "Highest amount of netflix consumption: 17.535\n"
     ]
    }
   ],
   "source": [
    "# What is the highest amount of netflix consumption?\n",
    "ans1 = df['netflix_consumption'].max()\n",
    "print('Highest amount of netflix consumption:', round(ans1, 3))"
   ]
  },
  {
   "cell_type": "code",
   "execution_count": 23,
   "metadata": {},
   "outputs": [
    {
     "name": "stdout",
     "output_type": "stream",
     "text": [
      "Number of people who wear glasses: 2555\n",
      "Percentage of people who wear glasses: 0.511\n"
     ]
    }
   ],
   "source": [
    "# How many people wear glasses?\n",
    "ans2_a = df['wears_glasses'].value_counts()['yes']\n",
    "# What percentage of people is this?\n",
    "ans2_b = df['wears_glasses'].value_counts(normalize=True)['yes']\n",
    "\n",
    "print('Number of people who wear glasses:', ans2_a)\n",
    "print('Percentage of people who wear glasses:', ans2_b)\n",
    "\n"
   ]
  },
  {
   "cell_type": "code",
   "execution_count": 24,
   "metadata": {},
   "outputs": [
    {
     "name": "stdout",
     "output_type": "stream",
     "text": [
      "Number of people's favorite animal is a dog: 1002\n"
     ]
    }
   ],
   "source": [
    "# How many people's favorite animal is a dog?\n",
    "ans3 = df['favorite_animal'].value_counts()['dog']\n",
    "print('Number of people\\'s favorite animal is a dog:', ans3)\n"
   ]
  },
  {
   "cell_type": "code",
   "execution_count": 26,
   "metadata": {},
   "outputs": [
    {
     "name": "stdout",
     "output_type": "stream",
     "text": [
      "Most common favorite animal: lemur\n"
     ]
    }
   ],
   "source": [
    "# What is the most common favorite animal? \n",
    "ans4 = df['favorite_animal'].value_counts().idxmax()\n",
    "print('Most common favorite animal:', ans4)"
   ]
  },
  {
   "cell_type": "code",
   "execution_count": 31,
   "metadata": {},
   "outputs": [
    {
     "name": "stdout",
     "output_type": "stream",
     "text": [
      "Average netflix consumption for people that prefer brussel sprouts: 10.008\n"
     ]
    }
   ],
   "source": [
    "# What is the average netflix consumption for people that prefer brussel sprouts? \n",
    "ans5 = df['netflix_consumption'][df['favorite_vegetable'] == 'brussel sprouts'].mean()\n",
    "print('Average netflix consumption for people that prefer brussel sprouts:', round(ans5, 3))"
   ]
  },
  {
   "cell_type": "code",
   "execution_count": 28,
   "metadata": {},
   "outputs": [
    {
     "name": "stdout",
     "output_type": "stream",
     "text": [
      "Most common favorite fruit for people who wear glasses and have more than 40 open browser tabs: blueberries\n"
     ]
    }
   ],
   "source": [
    "# What is the most common favorite fruit for people who wear glasses and have more than 40 open browser tabs?\n",
    "ans6 = df['favorite_fruit'][(df['wears_glasses'] == 'yes') & (df['open_browser_tabs'] > 40)].value_counts().idxmax()\n",
    "print('Most common favorite fruit for people who wear glasses and have more than 40 open browser tabs:', ans6)"
   ]
  },
  {
   "cell_type": "code",
   "execution_count": null,
   "metadata": {},
   "outputs": [],
   "source": []
  }
 ],
 "metadata": {
  "kernelspec": {
   "display_name": "Python 3",
   "language": "python",
   "name": "python3"
  },
  "language_info": {
   "codemirror_mode": {
    "name": "ipython",
    "version": 3
   },
   "file_extension": ".py",
   "mimetype": "text/x-python",
   "name": "python",
   "nbconvert_exporter": "python",
   "pygments_lexer": "ipython3",
   "version": "3.9.7"
  }
 },
 "nbformat": 4,
 "nbformat_minor": 4
}
